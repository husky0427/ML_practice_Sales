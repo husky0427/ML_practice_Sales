{
 "metadata": {
  "language_info": {
   "codemirror_mode": {
    "name": "ipython",
    "version": 3
   },
   "file_extension": ".py",
   "mimetype": "text/x-python",
   "name": "python",
   "nbconvert_exporter": "python",
   "pygments_lexer": "ipython3",
   "version": "3.6.5-final"
  },
  "orig_nbformat": 2,
  "kernelspec": {
   "name": "python3",
   "display_name": "Python 3",
   "language": "python"
  }
 },
 "nbformat": 4,
 "nbformat_minor": 2,
 "cells": [
  {
   "cell_type": "code",
   "execution_count": null,
   "metadata": {},
   "outputs": [],
   "source": [
    "# ShunYuan Chiu\n",
    "# 20210209"
   ]
  },
  {
   "source": [
    "# 欄位介紹\n",
    "### InvoiceNo: 發票號碼. 唯一值, \"C\"開頭代表該交易取消\n",
    "### ItemCode: 產品代碼, 每個產品的唯一值\n",
    "### DescriptionCode: 商品敘述代碼\n",
    "### Quantity: 每個商品數量\n",
    "### SellDate: 發票產生時間, 代表每筆交易發生的日期跟時間\n",
    "### NewTaiwanDollors: 物品單價\n",
    "### CustomerID: 用戶代碼, 唯一值\n",
    "### District: 銷售縣市"
   ],
   "cell_type": "markdown",
   "metadata": {}
  },
  {
   "source": [
    "## 讀取檔案"
   ],
   "cell_type": "markdown",
   "metadata": {}
  },
  {
   "cell_type": "code",
   "execution_count": 1,
   "metadata": {},
   "outputs": [],
   "source": [
    "import matplotlib.pyplot as plt \n",
    "import seaborn as sns\n",
    "import numpy as np "
   ]
  },
  {
   "cell_type": "code",
   "execution_count": 2,
   "metadata": {},
   "outputs": [],
   "source": [
    "import sqlite3\n",
    "import pandas as pd\n",
    "\n",
    "with sqlite3.connect('ecommerce.db') as con:\n",
    "    df_ori = pd.read_sql_query(\"SELECT * FROM ecommerce\", con=con)\n"
   ]
  },
  {
   "source": [
    "## 1. 該題目是那種機器學習模式： 監督還是非監督？(5%)\n",
    "\n",
    "A1:\n",
    "__非監督__, 因爲觀察上面的資料, 並無提供label(答案), 而是要自行從一堆未給答案標籤的資料中整理出所需資訊"
   ],
   "cell_type": "markdown",
   "metadata": {}
  },
  {
   "source": [
    "## 2. 將 Sqlite.db 檔案轉成 Pandas 的格式做資料處理(10%)\n",
    "A2. 如下\n"
   ],
   "cell_type": "markdown",
   "metadata": {}
  },
  {
   "cell_type": "code",
   "execution_count": 3,
   "metadata": {},
   "outputs": [
    {
     "output_type": "execute_result",
     "data": {
      "text/plain": [
       "       InvoiceNo ItemCode DescriptionCode  Quantity         SellDate  \\\n",
       "0         536365   85123A         1546686         6   12/1/2018 8:26   \n",
       "1         536365    71053         1466048         6   12/1/2018 8:26   \n",
       "2         536365   84406B         4510747         8   12/1/2018 8:26   \n",
       "3         536365   84029G         6497318         6   12/1/2018 8:26   \n",
       "4         536365   84029E         3876120         6   12/1/2018 8:26   \n",
       "...          ...      ...             ...       ...              ...   \n",
       "541904    581587    22613         2299374        12  12/9/2011 12:50   \n",
       "541905    581587    22899         8879580         6  12/9/2011 12:50   \n",
       "541906    581587    23254         3140812         4  12/9/2011 12:50   \n",
       "541907    581587    23255         5796013         4  12/9/2011 12:50   \n",
       "541908    581587    22138         7142903         3  12/9/2011 12:50   \n",
       "\n",
       "        NewTaiwanDollors  CustomerID             District  \n",
       "0                  255.0     17850.0  Zhongzheng District  \n",
       "1                  339.0     17850.0  Zhongzheng District  \n",
       "2                  275.0     17850.0  Zhongzheng District  \n",
       "3                  339.0     17850.0  Zhongzheng District  \n",
       "4                  339.0     17850.0  Zhongzheng District  \n",
       "...                  ...         ...                  ...  \n",
       "541904              85.0     12680.0      Datong District  \n",
       "541905             210.0     12680.0      Datong District  \n",
       "541906             415.0     12680.0      Datong District  \n",
       "541907             415.0     12680.0      Datong District  \n",
       "541908             495.0     12680.0      Datong District  \n",
       "\n",
       "[541909 rows x 8 columns]"
      ],
      "text/html": "<div>\n<style scoped>\n    .dataframe tbody tr th:only-of-type {\n        vertical-align: middle;\n    }\n\n    .dataframe tbody tr th {\n        vertical-align: top;\n    }\n\n    .dataframe thead th {\n        text-align: right;\n    }\n</style>\n<table border=\"1\" class=\"dataframe\">\n  <thead>\n    <tr style=\"text-align: right;\">\n      <th></th>\n      <th>InvoiceNo</th>\n      <th>ItemCode</th>\n      <th>DescriptionCode</th>\n      <th>Quantity</th>\n      <th>SellDate</th>\n      <th>NewTaiwanDollors</th>\n      <th>CustomerID</th>\n      <th>District</th>\n    </tr>\n  </thead>\n  <tbody>\n    <tr>\n      <th>0</th>\n      <td>536365</td>\n      <td>85123A</td>\n      <td>1546686</td>\n      <td>6</td>\n      <td>12/1/2018 8:26</td>\n      <td>255.0</td>\n      <td>17850.0</td>\n      <td>Zhongzheng District</td>\n    </tr>\n    <tr>\n      <th>1</th>\n      <td>536365</td>\n      <td>71053</td>\n      <td>1466048</td>\n      <td>6</td>\n      <td>12/1/2018 8:26</td>\n      <td>339.0</td>\n      <td>17850.0</td>\n      <td>Zhongzheng District</td>\n    </tr>\n    <tr>\n      <th>2</th>\n      <td>536365</td>\n      <td>84406B</td>\n      <td>4510747</td>\n      <td>8</td>\n      <td>12/1/2018 8:26</td>\n      <td>275.0</td>\n      <td>17850.0</td>\n      <td>Zhongzheng District</td>\n    </tr>\n    <tr>\n      <th>3</th>\n      <td>536365</td>\n      <td>84029G</td>\n      <td>6497318</td>\n      <td>6</td>\n      <td>12/1/2018 8:26</td>\n      <td>339.0</td>\n      <td>17850.0</td>\n      <td>Zhongzheng District</td>\n    </tr>\n    <tr>\n      <th>4</th>\n      <td>536365</td>\n      <td>84029E</td>\n      <td>3876120</td>\n      <td>6</td>\n      <td>12/1/2018 8:26</td>\n      <td>339.0</td>\n      <td>17850.0</td>\n      <td>Zhongzheng District</td>\n    </tr>\n    <tr>\n      <th>...</th>\n      <td>...</td>\n      <td>...</td>\n      <td>...</td>\n      <td>...</td>\n      <td>...</td>\n      <td>...</td>\n      <td>...</td>\n      <td>...</td>\n    </tr>\n    <tr>\n      <th>541904</th>\n      <td>581587</td>\n      <td>22613</td>\n      <td>2299374</td>\n      <td>12</td>\n      <td>12/9/2011 12:50</td>\n      <td>85.0</td>\n      <td>12680.0</td>\n      <td>Datong District</td>\n    </tr>\n    <tr>\n      <th>541905</th>\n      <td>581587</td>\n      <td>22899</td>\n      <td>8879580</td>\n      <td>6</td>\n      <td>12/9/2011 12:50</td>\n      <td>210.0</td>\n      <td>12680.0</td>\n      <td>Datong District</td>\n    </tr>\n    <tr>\n      <th>541906</th>\n      <td>581587</td>\n      <td>23254</td>\n      <td>3140812</td>\n      <td>4</td>\n      <td>12/9/2011 12:50</td>\n      <td>415.0</td>\n      <td>12680.0</td>\n      <td>Datong District</td>\n    </tr>\n    <tr>\n      <th>541907</th>\n      <td>581587</td>\n      <td>23255</td>\n      <td>5796013</td>\n      <td>4</td>\n      <td>12/9/2011 12:50</td>\n      <td>415.0</td>\n      <td>12680.0</td>\n      <td>Datong District</td>\n    </tr>\n    <tr>\n      <th>541908</th>\n      <td>581587</td>\n      <td>22138</td>\n      <td>7142903</td>\n      <td>3</td>\n      <td>12/9/2011 12:50</td>\n      <td>495.0</td>\n      <td>12680.0</td>\n      <td>Datong District</td>\n    </tr>\n  </tbody>\n</table>\n<p>541909 rows × 8 columns</p>\n</div>"
     },
     "metadata": {},
     "execution_count": 3
    }
   ],
   "source": [
    "df_ori"
   ]
  },
  {
   "source": [
    "## 3. EDA（Exploratory Data Analysis）(30%)\n",
    "### 3.1 資料探勘，請利用資料視覺化的方式觀察資料分佈進行分析，解釋資料分佈的狀況，包含但不限於outlier、缺值(10%)\n",
    "### 3.2 透過3.1的分析說明哪些資料需要進行預處理，預處理後預計的效果、預處理的方式爲何、預處理實作後的資料分佈及分析 (10%) \n",
    "### 3.3 依據3.2調整後的資料集，用視覺化的方式找出特徵資料並說明您選擇該資料爲特徵的理由及這些特徵的意義(10%)"
   ],
   "cell_type": "markdown",
   "metadata": {}
  },
  {
   "cell_type": "code",
   "execution_count": 4,
   "metadata": {},
   "outputs": [
    {
     "output_type": "execute_result",
     "data": {
      "text/plain": [
       "   InvoiceNo ItemCode DescriptionCode  Quantity        SellDate  \\\n",
       "0     536365   85123A         1546686         6  12/1/2018 8:26   \n",
       "1     536365    71053         1466048         6  12/1/2018 8:26   \n",
       "2     536365   84406B         4510747         8  12/1/2018 8:26   \n",
       "3     536365   84029G         6497318         6  12/1/2018 8:26   \n",
       "4     536365   84029E         3876120         6  12/1/2018 8:26   \n",
       "5     536365    22752         9934318         2  12/1/2018 8:26   \n",
       "6     536365    21730         1740436         6  12/1/2018 8:26   \n",
       "7     536366    22633         8111495         6  12/1/2018 8:28   \n",
       "8     536366    22632         2542977         6  12/1/2018 8:28   \n",
       "9     536367    84879         8760813        32  12/1/2018 8:34   \n",
       "10    536367    22745         3441235         6  12/1/2018 8:34   \n",
       "11    536367    22748         7139898         6  12/1/2018 8:34   \n",
       "12    536367    22749         7652763         8  12/1/2018 8:34   \n",
       "13    536367    22310         2174263         6  12/1/2018 8:34   \n",
       "14    536367    84969         5292850         6  12/1/2018 8:34   \n",
       "15    536367    22623         2391721         3  12/1/2018 8:34   \n",
       "16    536367    22622         6012195         2  12/1/2018 8:34   \n",
       "17    536367    21754         6849898         3  12/1/2018 8:34   \n",
       "18    536367    21755         8053734         3  12/1/2018 8:34   \n",
       "19    536367    21777         2710357         4  12/1/2018 8:34   \n",
       "\n",
       "    NewTaiwanDollors  CustomerID             District  \n",
       "0              255.0     17850.0  Zhongzheng District  \n",
       "1              339.0     17850.0  Zhongzheng District  \n",
       "2              275.0     17850.0  Zhongzheng District  \n",
       "3              339.0     17850.0  Zhongzheng District  \n",
       "4              339.0     17850.0  Zhongzheng District  \n",
       "5              765.0     17850.0  Zhongzheng District  \n",
       "6              425.0     17850.0  Zhongzheng District  \n",
       "7              185.0     17850.0  Zhongzheng District  \n",
       "8              185.0     17850.0  Zhongzheng District  \n",
       "9              169.0     13047.0  Zhongzheng District  \n",
       "10             210.0     13047.0  Zhongzheng District  \n",
       "11             210.0     13047.0  Zhongzheng District  \n",
       "12             375.0     13047.0  Zhongzheng District  \n",
       "13             165.0     13047.0  Zhongzheng District  \n",
       "14             425.0     13047.0  Zhongzheng District  \n",
       "15             495.0     13047.0  Zhongzheng District  \n",
       "16             995.0     13047.0  Zhongzheng District  \n",
       "17             595.0     13047.0  Zhongzheng District  \n",
       "18             595.0     13047.0  Zhongzheng District  \n",
       "19             795.0     13047.0  Zhongzheng District  "
      ],
      "text/html": "<div>\n<style scoped>\n    .dataframe tbody tr th:only-of-type {\n        vertical-align: middle;\n    }\n\n    .dataframe tbody tr th {\n        vertical-align: top;\n    }\n\n    .dataframe thead th {\n        text-align: right;\n    }\n</style>\n<table border=\"1\" class=\"dataframe\">\n  <thead>\n    <tr style=\"text-align: right;\">\n      <th></th>\n      <th>InvoiceNo</th>\n      <th>ItemCode</th>\n      <th>DescriptionCode</th>\n      <th>Quantity</th>\n      <th>SellDate</th>\n      <th>NewTaiwanDollors</th>\n      <th>CustomerID</th>\n      <th>District</th>\n    </tr>\n  </thead>\n  <tbody>\n    <tr>\n      <th>0</th>\n      <td>536365</td>\n      <td>85123A</td>\n      <td>1546686</td>\n      <td>6</td>\n      <td>12/1/2018 8:26</td>\n      <td>255.0</td>\n      <td>17850.0</td>\n      <td>Zhongzheng District</td>\n    </tr>\n    <tr>\n      <th>1</th>\n      <td>536365</td>\n      <td>71053</td>\n      <td>1466048</td>\n      <td>6</td>\n      <td>12/1/2018 8:26</td>\n      <td>339.0</td>\n      <td>17850.0</td>\n      <td>Zhongzheng District</td>\n    </tr>\n    <tr>\n      <th>2</th>\n      <td>536365</td>\n      <td>84406B</td>\n      <td>4510747</td>\n      <td>8</td>\n      <td>12/1/2018 8:26</td>\n      <td>275.0</td>\n      <td>17850.0</td>\n      <td>Zhongzheng District</td>\n    </tr>\n    <tr>\n      <th>3</th>\n      <td>536365</td>\n      <td>84029G</td>\n      <td>6497318</td>\n      <td>6</td>\n      <td>12/1/2018 8:26</td>\n      <td>339.0</td>\n      <td>17850.0</td>\n      <td>Zhongzheng District</td>\n    </tr>\n    <tr>\n      <th>4</th>\n      <td>536365</td>\n      <td>84029E</td>\n      <td>3876120</td>\n      <td>6</td>\n      <td>12/1/2018 8:26</td>\n      <td>339.0</td>\n      <td>17850.0</td>\n      <td>Zhongzheng District</td>\n    </tr>\n    <tr>\n      <th>5</th>\n      <td>536365</td>\n      <td>22752</td>\n      <td>9934318</td>\n      <td>2</td>\n      <td>12/1/2018 8:26</td>\n      <td>765.0</td>\n      <td>17850.0</td>\n      <td>Zhongzheng District</td>\n    </tr>\n    <tr>\n      <th>6</th>\n      <td>536365</td>\n      <td>21730</td>\n      <td>1740436</td>\n      <td>6</td>\n      <td>12/1/2018 8:26</td>\n      <td>425.0</td>\n      <td>17850.0</td>\n      <td>Zhongzheng District</td>\n    </tr>\n    <tr>\n      <th>7</th>\n      <td>536366</td>\n      <td>22633</td>\n      <td>8111495</td>\n      <td>6</td>\n      <td>12/1/2018 8:28</td>\n      <td>185.0</td>\n      <td>17850.0</td>\n      <td>Zhongzheng District</td>\n    </tr>\n    <tr>\n      <th>8</th>\n      <td>536366</td>\n      <td>22632</td>\n      <td>2542977</td>\n      <td>6</td>\n      <td>12/1/2018 8:28</td>\n      <td>185.0</td>\n      <td>17850.0</td>\n      <td>Zhongzheng District</td>\n    </tr>\n    <tr>\n      <th>9</th>\n      <td>536367</td>\n      <td>84879</td>\n      <td>8760813</td>\n      <td>32</td>\n      <td>12/1/2018 8:34</td>\n      <td>169.0</td>\n      <td>13047.0</td>\n      <td>Zhongzheng District</td>\n    </tr>\n    <tr>\n      <th>10</th>\n      <td>536367</td>\n      <td>22745</td>\n      <td>3441235</td>\n      <td>6</td>\n      <td>12/1/2018 8:34</td>\n      <td>210.0</td>\n      <td>13047.0</td>\n      <td>Zhongzheng District</td>\n    </tr>\n    <tr>\n      <th>11</th>\n      <td>536367</td>\n      <td>22748</td>\n      <td>7139898</td>\n      <td>6</td>\n      <td>12/1/2018 8:34</td>\n      <td>210.0</td>\n      <td>13047.0</td>\n      <td>Zhongzheng District</td>\n    </tr>\n    <tr>\n      <th>12</th>\n      <td>536367</td>\n      <td>22749</td>\n      <td>7652763</td>\n      <td>8</td>\n      <td>12/1/2018 8:34</td>\n      <td>375.0</td>\n      <td>13047.0</td>\n      <td>Zhongzheng District</td>\n    </tr>\n    <tr>\n      <th>13</th>\n      <td>536367</td>\n      <td>22310</td>\n      <td>2174263</td>\n      <td>6</td>\n      <td>12/1/2018 8:34</td>\n      <td>165.0</td>\n      <td>13047.0</td>\n      <td>Zhongzheng District</td>\n    </tr>\n    <tr>\n      <th>14</th>\n      <td>536367</td>\n      <td>84969</td>\n      <td>5292850</td>\n      <td>6</td>\n      <td>12/1/2018 8:34</td>\n      <td>425.0</td>\n      <td>13047.0</td>\n      <td>Zhongzheng District</td>\n    </tr>\n    <tr>\n      <th>15</th>\n      <td>536367</td>\n      <td>22623</td>\n      <td>2391721</td>\n      <td>3</td>\n      <td>12/1/2018 8:34</td>\n      <td>495.0</td>\n      <td>13047.0</td>\n      <td>Zhongzheng District</td>\n    </tr>\n    <tr>\n      <th>16</th>\n      <td>536367</td>\n      <td>22622</td>\n      <td>6012195</td>\n      <td>2</td>\n      <td>12/1/2018 8:34</td>\n      <td>995.0</td>\n      <td>13047.0</td>\n      <td>Zhongzheng District</td>\n    </tr>\n    <tr>\n      <th>17</th>\n      <td>536367</td>\n      <td>21754</td>\n      <td>6849898</td>\n      <td>3</td>\n      <td>12/1/2018 8:34</td>\n      <td>595.0</td>\n      <td>13047.0</td>\n      <td>Zhongzheng District</td>\n    </tr>\n    <tr>\n      <th>18</th>\n      <td>536367</td>\n      <td>21755</td>\n      <td>8053734</td>\n      <td>3</td>\n      <td>12/1/2018 8:34</td>\n      <td>595.0</td>\n      <td>13047.0</td>\n      <td>Zhongzheng District</td>\n    </tr>\n    <tr>\n      <th>19</th>\n      <td>536367</td>\n      <td>21777</td>\n      <td>2710357</td>\n      <td>4</td>\n      <td>12/1/2018 8:34</td>\n      <td>795.0</td>\n      <td>13047.0</td>\n      <td>Zhongzheng District</td>\n    </tr>\n  </tbody>\n</table>\n</div>"
     },
     "metadata": {},
     "execution_count": 4
    }
   ],
   "source": [
    "# 透過df.head, tail, info, describe 快速觀察資料狀態 \n",
    "df_ori.head(20)"
   ]
  },
  {
   "cell_type": "code",
   "execution_count": 5,
   "metadata": {},
   "outputs": [
    {
     "output_type": "execute_result",
     "data": {
      "text/plain": [
       "       InvoiceNo ItemCode DescriptionCode  Quantity         SellDate  \\\n",
       "541889    581585    22466         6922933        12  12/9/2011 12:31   \n",
       "541890    581586    22061         7116658         8  12/9/2011 12:49   \n",
       "541891    581586    23275         3362023        24  12/9/2011 12:49   \n",
       "541892    581586    21217         3332755        24  12/9/2011 12:49   \n",
       "541893    581586    20685         2340919        10  12/9/2011 12:49   \n",
       "541894    581587    22631         1717550        12  12/9/2011 12:50   \n",
       "541895    581587    22556         3577439        12  12/9/2011 12:50   \n",
       "541896    581587    22555         2610628        12  12/9/2011 12:50   \n",
       "541897    581587    22728         4203208         4  12/9/2011 12:50   \n",
       "541898    581587    22727         7083207         4  12/9/2011 12:50   \n",
       "541899    581587    22726         1068034         4  12/9/2011 12:50   \n",
       "541900    581587    22730         6509216         4  12/9/2011 12:50   \n",
       "541901    581587    22367         5970762         8  12/9/2011 12:50   \n",
       "541902    581587    22629         9420770        12  12/9/2011 12:50   \n",
       "541903    581587    23256         6679049         4  12/9/2011 12:50   \n",
       "541904    581587    22613         2299374        12  12/9/2011 12:50   \n",
       "541905    581587    22899         8879580         6  12/9/2011 12:50   \n",
       "541906    581587    23254         3140812         4  12/9/2011 12:50   \n",
       "541907    581587    23255         5796013         4  12/9/2011 12:50   \n",
       "541908    581587    22138         7142903         3  12/9/2011 12:50   \n",
       "\n",
       "        NewTaiwanDollors  CustomerID             District  \n",
       "541889             195.0     15804.0  Zhongzheng District  \n",
       "541890             295.0     13113.0  Zhongzheng District  \n",
       "541891             125.0     13113.0  Zhongzheng District  \n",
       "541892             895.0     13113.0  Zhongzheng District  \n",
       "541893             708.0     13113.0  Zhongzheng District  \n",
       "541894             195.0     12680.0      Datong District  \n",
       "541895             165.0     12680.0      Datong District  \n",
       "541896             165.0     12680.0      Datong District  \n",
       "541897             375.0     12680.0      Datong District  \n",
       "541898             375.0     12680.0      Datong District  \n",
       "541899             375.0     12680.0      Datong District  \n",
       "541900             375.0     12680.0      Datong District  \n",
       "541901             195.0     12680.0      Datong District  \n",
       "541902             195.0     12680.0      Datong District  \n",
       "541903             415.0     12680.0      Datong District  \n",
       "541904              85.0     12680.0      Datong District  \n",
       "541905             210.0     12680.0      Datong District  \n",
       "541906             415.0     12680.0      Datong District  \n",
       "541907             415.0     12680.0      Datong District  \n",
       "541908             495.0     12680.0      Datong District  "
      ],
      "text/html": "<div>\n<style scoped>\n    .dataframe tbody tr th:only-of-type {\n        vertical-align: middle;\n    }\n\n    .dataframe tbody tr th {\n        vertical-align: top;\n    }\n\n    .dataframe thead th {\n        text-align: right;\n    }\n</style>\n<table border=\"1\" class=\"dataframe\">\n  <thead>\n    <tr style=\"text-align: right;\">\n      <th></th>\n      <th>InvoiceNo</th>\n      <th>ItemCode</th>\n      <th>DescriptionCode</th>\n      <th>Quantity</th>\n      <th>SellDate</th>\n      <th>NewTaiwanDollors</th>\n      <th>CustomerID</th>\n      <th>District</th>\n    </tr>\n  </thead>\n  <tbody>\n    <tr>\n      <th>541889</th>\n      <td>581585</td>\n      <td>22466</td>\n      <td>6922933</td>\n      <td>12</td>\n      <td>12/9/2011 12:31</td>\n      <td>195.0</td>\n      <td>15804.0</td>\n      <td>Zhongzheng District</td>\n    </tr>\n    <tr>\n      <th>541890</th>\n      <td>581586</td>\n      <td>22061</td>\n      <td>7116658</td>\n      <td>8</td>\n      <td>12/9/2011 12:49</td>\n      <td>295.0</td>\n      <td>13113.0</td>\n      <td>Zhongzheng District</td>\n    </tr>\n    <tr>\n      <th>541891</th>\n      <td>581586</td>\n      <td>23275</td>\n      <td>3362023</td>\n      <td>24</td>\n      <td>12/9/2011 12:49</td>\n      <td>125.0</td>\n      <td>13113.0</td>\n      <td>Zhongzheng District</td>\n    </tr>\n    <tr>\n      <th>541892</th>\n      <td>581586</td>\n      <td>21217</td>\n      <td>3332755</td>\n      <td>24</td>\n      <td>12/9/2011 12:49</td>\n      <td>895.0</td>\n      <td>13113.0</td>\n      <td>Zhongzheng District</td>\n    </tr>\n    <tr>\n      <th>541893</th>\n      <td>581586</td>\n      <td>20685</td>\n      <td>2340919</td>\n      <td>10</td>\n      <td>12/9/2011 12:49</td>\n      <td>708.0</td>\n      <td>13113.0</td>\n      <td>Zhongzheng District</td>\n    </tr>\n    <tr>\n      <th>541894</th>\n      <td>581587</td>\n      <td>22631</td>\n      <td>1717550</td>\n      <td>12</td>\n      <td>12/9/2011 12:50</td>\n      <td>195.0</td>\n      <td>12680.0</td>\n      <td>Datong District</td>\n    </tr>\n    <tr>\n      <th>541895</th>\n      <td>581587</td>\n      <td>22556</td>\n      <td>3577439</td>\n      <td>12</td>\n      <td>12/9/2011 12:50</td>\n      <td>165.0</td>\n      <td>12680.0</td>\n      <td>Datong District</td>\n    </tr>\n    <tr>\n      <th>541896</th>\n      <td>581587</td>\n      <td>22555</td>\n      <td>2610628</td>\n      <td>12</td>\n      <td>12/9/2011 12:50</td>\n      <td>165.0</td>\n      <td>12680.0</td>\n      <td>Datong District</td>\n    </tr>\n    <tr>\n      <th>541897</th>\n      <td>581587</td>\n      <td>22728</td>\n      <td>4203208</td>\n      <td>4</td>\n      <td>12/9/2011 12:50</td>\n      <td>375.0</td>\n      <td>12680.0</td>\n      <td>Datong District</td>\n    </tr>\n    <tr>\n      <th>541898</th>\n      <td>581587</td>\n      <td>22727</td>\n      <td>7083207</td>\n      <td>4</td>\n      <td>12/9/2011 12:50</td>\n      <td>375.0</td>\n      <td>12680.0</td>\n      <td>Datong District</td>\n    </tr>\n    <tr>\n      <th>541899</th>\n      <td>581587</td>\n      <td>22726</td>\n      <td>1068034</td>\n      <td>4</td>\n      <td>12/9/2011 12:50</td>\n      <td>375.0</td>\n      <td>12680.0</td>\n      <td>Datong District</td>\n    </tr>\n    <tr>\n      <th>541900</th>\n      <td>581587</td>\n      <td>22730</td>\n      <td>6509216</td>\n      <td>4</td>\n      <td>12/9/2011 12:50</td>\n      <td>375.0</td>\n      <td>12680.0</td>\n      <td>Datong District</td>\n    </tr>\n    <tr>\n      <th>541901</th>\n      <td>581587</td>\n      <td>22367</td>\n      <td>5970762</td>\n      <td>8</td>\n      <td>12/9/2011 12:50</td>\n      <td>195.0</td>\n      <td>12680.0</td>\n      <td>Datong District</td>\n    </tr>\n    <tr>\n      <th>541902</th>\n      <td>581587</td>\n      <td>22629</td>\n      <td>9420770</td>\n      <td>12</td>\n      <td>12/9/2011 12:50</td>\n      <td>195.0</td>\n      <td>12680.0</td>\n      <td>Datong District</td>\n    </tr>\n    <tr>\n      <th>541903</th>\n      <td>581587</td>\n      <td>23256</td>\n      <td>6679049</td>\n      <td>4</td>\n      <td>12/9/2011 12:50</td>\n      <td>415.0</td>\n      <td>12680.0</td>\n      <td>Datong District</td>\n    </tr>\n    <tr>\n      <th>541904</th>\n      <td>581587</td>\n      <td>22613</td>\n      <td>2299374</td>\n      <td>12</td>\n      <td>12/9/2011 12:50</td>\n      <td>85.0</td>\n      <td>12680.0</td>\n      <td>Datong District</td>\n    </tr>\n    <tr>\n      <th>541905</th>\n      <td>581587</td>\n      <td>22899</td>\n      <td>8879580</td>\n      <td>6</td>\n      <td>12/9/2011 12:50</td>\n      <td>210.0</td>\n      <td>12680.0</td>\n      <td>Datong District</td>\n    </tr>\n    <tr>\n      <th>541906</th>\n      <td>581587</td>\n      <td>23254</td>\n      <td>3140812</td>\n      <td>4</td>\n      <td>12/9/2011 12:50</td>\n      <td>415.0</td>\n      <td>12680.0</td>\n      <td>Datong District</td>\n    </tr>\n    <tr>\n      <th>541907</th>\n      <td>581587</td>\n      <td>23255</td>\n      <td>5796013</td>\n      <td>4</td>\n      <td>12/9/2011 12:50</td>\n      <td>415.0</td>\n      <td>12680.0</td>\n      <td>Datong District</td>\n    </tr>\n    <tr>\n      <th>541908</th>\n      <td>581587</td>\n      <td>22138</td>\n      <td>7142903</td>\n      <td>3</td>\n      <td>12/9/2011 12:50</td>\n      <td>495.0</td>\n      <td>12680.0</td>\n      <td>Datong District</td>\n    </tr>\n  </tbody>\n</table>\n</div>"
     },
     "metadata": {},
     "execution_count": 5
    }
   ],
   "source": [
    "df_ori.tail(20)"
   ]
  },
  {
   "cell_type": "code",
   "execution_count": 6,
   "metadata": {},
   "outputs": [
    {
     "output_type": "stream",
     "name": "stdout",
     "text": [
      "<class 'pandas.core.frame.DataFrame'>\nRangeIndex: 541909 entries, 0 to 541908\nData columns (total 8 columns):\n #   Column            Non-Null Count   Dtype  \n---  ------            --------------   -----  \n 0   InvoiceNo         541909 non-null  object \n 1   ItemCode          541909 non-null  object \n 2   DescriptionCode   540455 non-null  object \n 3   Quantity          541909 non-null  int64  \n 4   SellDate          541909 non-null  object \n 5   NewTaiwanDollors  541909 non-null  float64\n 6   CustomerID        406829 non-null  float64\n 7   District          541909 non-null  object \ndtypes: float64(2), int64(1), object(5)\nmemory usage: 33.1+ MB\n"
     ]
    }
   ],
   "source": [
    "df_ori.info()"
   ]
  },
  {
   "cell_type": "code",
   "execution_count": 7,
   "metadata": {},
   "outputs": [
    {
     "output_type": "execute_result",
     "data": {
      "text/plain": [
       "            Quantity  NewTaiwanDollors     CustomerID\n",
       "count  541909.000000      5.419090e+05  406829.000000\n",
       "mean        9.552250      4.611114e+02   15287.690570\n",
       "std       218.081158      9.675985e+03    1713.600303\n",
       "min    -80995.000000     -1.106206e+06   12346.000000\n",
       "25%         1.000000      1.250000e+02   13953.000000\n",
       "50%         3.000000      2.080000e+02   15152.000000\n",
       "75%        10.000000      4.130000e+02   16791.000000\n",
       "max     80995.000000      3.897000e+06   18287.000000"
      ],
      "text/html": "<div>\n<style scoped>\n    .dataframe tbody tr th:only-of-type {\n        vertical-align: middle;\n    }\n\n    .dataframe tbody tr th {\n        vertical-align: top;\n    }\n\n    .dataframe thead th {\n        text-align: right;\n    }\n</style>\n<table border=\"1\" class=\"dataframe\">\n  <thead>\n    <tr style=\"text-align: right;\">\n      <th></th>\n      <th>Quantity</th>\n      <th>NewTaiwanDollors</th>\n      <th>CustomerID</th>\n    </tr>\n  </thead>\n  <tbody>\n    <tr>\n      <th>count</th>\n      <td>541909.000000</td>\n      <td>5.419090e+05</td>\n      <td>406829.000000</td>\n    </tr>\n    <tr>\n      <th>mean</th>\n      <td>9.552250</td>\n      <td>4.611114e+02</td>\n      <td>15287.690570</td>\n    </tr>\n    <tr>\n      <th>std</th>\n      <td>218.081158</td>\n      <td>9.675985e+03</td>\n      <td>1713.600303</td>\n    </tr>\n    <tr>\n      <th>min</th>\n      <td>-80995.000000</td>\n      <td>-1.106206e+06</td>\n      <td>12346.000000</td>\n    </tr>\n    <tr>\n      <th>25%</th>\n      <td>1.000000</td>\n      <td>1.250000e+02</td>\n      <td>13953.000000</td>\n    </tr>\n    <tr>\n      <th>50%</th>\n      <td>3.000000</td>\n      <td>2.080000e+02</td>\n      <td>15152.000000</td>\n    </tr>\n    <tr>\n      <th>75%</th>\n      <td>10.000000</td>\n      <td>4.130000e+02</td>\n      <td>16791.000000</td>\n    </tr>\n    <tr>\n      <th>max</th>\n      <td>80995.000000</td>\n      <td>3.897000e+06</td>\n      <td>18287.000000</td>\n    </tr>\n  </tbody>\n</table>\n</div>"
     },
     "metadata": {},
     "execution_count": 7
    }
   ],
   "source": [
    "df_ori.describe()"
   ]
  },
  {
   "source": [
    "### 觀察 head(20) 和 tail(20) 後, 初步作出以下推斷:  \n",
    "1. InvoiceNo: 推論是逐筆生成的發票編號，所以會跟隨着交易時間而增加  \n",
    "    -> 預計處理方式： 將該欄位拆成`純數字編號`以及`是否取消訂單`兩個欄位，方便針對此兩特徵進行後續分析  \n",
    "2. ItemCode: 猜測編號不同位數的數字可能和商品類別相關，可和DescriptionCode做比對來驗證，但目前未定義銷售solution，尚未確定該特徵是否有用  \n",
    "3. DescriptionCode: \u001f同ItemCode  \n",
    "4. CustomerID: 預估只是代號，所以可以將type改成int 或字串\n",
    "5. District: 地區，  \n",
    "-> 預計處理方式: 做onehot encoding  \n",
    "\n",
    "\n"
   ],
   "cell_type": "markdown",
   "metadata": {}
  },
  {
   "source": [
    "### 觀察 df.info 後作出以下推論\n",
    "1. 共 941909 筆資料，8個欄位\n",
    "2. 其中 `DescriptionCode`, `CustomerID` 有 missing value, 補缺失值的方法將視銷售solution而定"
   ],
   "cell_type": "markdown",
   "metadata": {}
  },
  {
   "source": [
    "### 觀察 db.describe 後，初步作出以下判斷:\n",
    "1. Quantity, NewTaiwanDollors 理論上都該是`自然數`，但從 min 中看出最小值爲負值，\b需針對負值的資料進一步進行分析及處理"
   ],
   "cell_type": "markdown",
   "metadata": {}
  },
  {
   "source": [
    "## 開始針對以上推論進行處理"
   ],
   "cell_type": "markdown",
   "metadata": {}
  },
  {
   "source": [
    "### 將 InvoiceNo 拆成 InvoiceNo_num(int) 和 IsCanceled(boolean)"
   ],
   "cell_type": "markdown",
   "metadata": {}
  },
  {
   "cell_type": "code",
   "execution_count": 8,
   "metadata": {},
   "outputs": [],
   "source": [
    "new = df_ori['InvoiceNo'].str.extract(r'(?P<IsCanceled>[A-Z])?(?P<InvoiceNo_num>\\d*)')\n",
    "df = pd.concat([df_ori, new], axis=1)\n",
    "# df_ori.iloc[299981:299987]"
   ]
  },
  {
   "source": [
    "分別觀察 IsCanceled 和 InvoiceNo_num"
   ],
   "cell_type": "markdown",
   "metadata": {}
  },
  {
   "cell_type": "code",
   "execution_count": 9,
   "metadata": {},
   "outputs": [
    {
     "output_type": "stream",
     "name": "stdout",
     "text": [
      "Length of InvoiceNo_num: [6]\nUnique element of IsCanceled: [nan 'C' 'A']\n"
     ]
    }
   ],
   "source": [
    "\n",
    "print('Length of InvoiceNo_num:', df['InvoiceNo_num'].str.len().unique())\n",
    "print('Unique element of IsCanceled:', df['IsCanceled'].unique())\n"
   ]
  },
  {
   "source": [
    "- Length of InvoiceNo_num 可確定 InvoiceNo_num 皆爲 六位數的數字 \n",
    "- Unique element of IsCanceled 預期只有 'C' 和 nan, 但出現了 'A'  \n",
    "所以再做進一步觀察"
   ],
   "cell_type": "markdown",
   "metadata": {}
  },
  {
   "cell_type": "code",
   "execution_count": 10,
   "metadata": {},
   "outputs": [
    {
     "output_type": "execute_result",
     "data": {
      "text/plain": [
       "       InvoiceNo ItemCode DescriptionCode  Quantity         SellDate  \\\n",
       "299982   A563185        B         8121915         1  8/12/2011 14:50   \n",
       "299983   A563186        B         8121915         1  8/12/2011 14:51   \n",
       "299984   A563187        B         8121915         1  8/12/2011 14:52   \n",
       "\n",
       "        NewTaiwanDollors  CustomerID             District IsCanceled  \\\n",
       "299982         1106206.0         NaN  Zhongzheng District          A   \n",
       "299983        -1106206.0         NaN  Zhongzheng District          A   \n",
       "299984        -1106206.0         NaN  Zhongzheng District          A   \n",
       "\n",
       "       InvoiceNo_num  \n",
       "299982        563185  \n",
       "299983        563186  \n",
       "299984        563187  "
      ],
      "text/html": "<div>\n<style scoped>\n    .dataframe tbody tr th:only-of-type {\n        vertical-align: middle;\n    }\n\n    .dataframe tbody tr th {\n        vertical-align: top;\n    }\n\n    .dataframe thead th {\n        text-align: right;\n    }\n</style>\n<table border=\"1\" class=\"dataframe\">\n  <thead>\n    <tr style=\"text-align: right;\">\n      <th></th>\n      <th>InvoiceNo</th>\n      <th>ItemCode</th>\n      <th>DescriptionCode</th>\n      <th>Quantity</th>\n      <th>SellDate</th>\n      <th>NewTaiwanDollors</th>\n      <th>CustomerID</th>\n      <th>District</th>\n      <th>IsCanceled</th>\n      <th>InvoiceNo_num</th>\n    </tr>\n  </thead>\n  <tbody>\n    <tr>\n      <th>299982</th>\n      <td>A563185</td>\n      <td>B</td>\n      <td>8121915</td>\n      <td>1</td>\n      <td>8/12/2011 14:50</td>\n      <td>1106206.0</td>\n      <td>NaN</td>\n      <td>Zhongzheng District</td>\n      <td>A</td>\n      <td>563185</td>\n    </tr>\n    <tr>\n      <th>299983</th>\n      <td>A563186</td>\n      <td>B</td>\n      <td>8121915</td>\n      <td>1</td>\n      <td>8/12/2011 14:51</td>\n      <td>-1106206.0</td>\n      <td>NaN</td>\n      <td>Zhongzheng District</td>\n      <td>A</td>\n      <td>563186</td>\n    </tr>\n    <tr>\n      <th>299984</th>\n      <td>A563187</td>\n      <td>B</td>\n      <td>8121915</td>\n      <td>1</td>\n      <td>8/12/2011 14:52</td>\n      <td>-1106206.0</td>\n      <td>NaN</td>\n      <td>Zhongzheng District</td>\n      <td>A</td>\n      <td>563187</td>\n    </tr>\n  </tbody>\n</table>\n</div>"
     },
     "metadata": {},
     "execution_count": 10
    }
   ],
   "source": [
    "df[df['IsCanceled'] == 'A']"
   ]
  },
  {
   "source": [
    "發現 IsCanceled == 'A' 的情形(即 InvoiceNo 開頭爲A), 有三筆, 且看不出代表的含義, 決定視爲 noise 將其 drop 掉"
   ],
   "cell_type": "markdown",
   "metadata": {}
  },
  {
   "cell_type": "code",
   "execution_count": 11,
   "metadata": {},
   "outputs": [],
   "source": [
    "\"\"\" drop 掉 noise, 並將 'C' 換成 True, nan換成 False \"\"\"\n",
    "df = df.drop(df[df['IsCanceled'] == 'A'].index)\n",
    "df['IsCanceled'] = df['IsCanceled'].map({'C': 1})\n",
    "df['IsCanceled'].fillna(value=0, inplace=True)"
   ]
  },
  {
   "cell_type": "code",
   "execution_count": 12,
   "metadata": {},
   "outputs": [
    {
     "output_type": "display_data",
     "data": {
      "text/plain": "<Figure size 432x288 with 1 Axes>",
      "image/svg+xml": "<?xml version=\"1.0\" encoding=\"utf-8\" standalone=\"no\"?>\n<!DOCTYPE svg PUBLIC \"-//W3C//DTD SVG 1.1//EN\"\n  \"http://www.w3.org/Graphics/SVG/1.1/DTD/svg11.dtd\">\n<!-- Created with matplotlib (https://matplotlib.org/) -->\n<svg height=\"262.19625pt\" version=\"1.1\" viewBox=\"0 0 408.053125 262.19625\" width=\"408.053125pt\" xmlns=\"http://www.w3.org/2000/svg\" xmlns:xlink=\"http://www.w3.org/1999/xlink\">\n <metadata>\n  <rdf:RDF xmlns:cc=\"http://creativecommons.org/ns#\" xmlns:dc=\"http://purl.org/dc/elements/1.1/\" xmlns:rdf=\"http://www.w3.org/1999/02/22-rdf-syntax-ns#\">\n   <cc:Work>\n    <dc:type rdf:resource=\"http://purl.org/dc/dcmitype/StillImage\"/>\n    <dc:date>2021-02-09T14:00:31.821721</dc:date>\n    <dc:format>image/svg+xml</dc:format>\n    <dc:creator>\n     <cc:Agent>\n      <dc:title>Matplotlib v3.3.4, https://matplotlib.org/</dc:title>\n     </cc:Agent>\n    </dc:creator>\n   </cc:Work>\n  </rdf:RDF>\n </metadata>\n <defs>\n  <style type=\"text/css\">*{stroke-linecap:butt;stroke-linejoin:round;}</style>\n </defs>\n <g id=\"figure_1\">\n  <g id=\"patch_1\">\n   <path d=\"M 0 262.19625 \nL 408.053125 262.19625 \nL 408.053125 0 \nL 0 0 \nz\n\" style=\"fill:none;\"/>\n  </g>\n  <g id=\"axes_1\">\n   <g id=\"patch_2\">\n    <path d=\"M 66.053125 224.64 \nL 400.853125 224.64 \nL 400.853125 7.2 \nL 66.053125 7.2 \nz\n\" style=\"fill:#ffffff;\"/>\n   </g>\n   <g id=\"patch_3\">\n    <path clip-path=\"url(#p330bb6cd3e)\" d=\"M 82.793125 224.64 \nL 216.713125 224.64 \nL 216.713125 17.554286 \nL 82.793125 17.554286 \nz\n\" style=\"fill:#3274a1;\"/>\n   </g>\n   <g id=\"patch_4\">\n    <path clip-path=\"url(#p330bb6cd3e)\" d=\"M 250.193125 224.64 \nL 384.113125 224.64 \nL 384.113125 221.028759 \nL 250.193125 221.028759 \nz\n\" style=\"fill:#e1812c;\"/>\n   </g>\n   <g id=\"matplotlib.axis_1\">\n    <g id=\"xtick_1\">\n     <g id=\"line2d_1\">\n      <defs>\n       <path d=\"M 0 0 \nL 0 3.5 \n\" id=\"md66746f41a\" style=\"stroke:#000000;stroke-width:0.8;\"/>\n      </defs>\n      <g>\n       <use style=\"stroke:#000000;stroke-width:0.8;\" x=\"149.753125\" xlink:href=\"#md66746f41a\" y=\"224.64\"/>\n      </g>\n     </g>\n     <g id=\"text_1\">\n      <!-- 0.0 -->\n      <g transform=\"translate(141.801563 239.238437)scale(0.1 -0.1)\">\n       <defs>\n        <path d=\"M 31.78125 66.40625 \nQ 24.171875 66.40625 20.328125 58.90625 \nQ 16.5 51.421875 16.5 36.375 \nQ 16.5 21.390625 20.328125 13.890625 \nQ 24.171875 6.390625 31.78125 6.390625 \nQ 39.453125 6.390625 43.28125 13.890625 \nQ 47.125 21.390625 47.125 36.375 \nQ 47.125 51.421875 43.28125 58.90625 \nQ 39.453125 66.40625 31.78125 66.40625 \nz\nM 31.78125 74.21875 \nQ 44.046875 74.21875 50.515625 64.515625 \nQ 56.984375 54.828125 56.984375 36.375 \nQ 56.984375 17.96875 50.515625 8.265625 \nQ 44.046875 -1.421875 31.78125 -1.421875 \nQ 19.53125 -1.421875 13.0625 8.265625 \nQ 6.59375 17.96875 6.59375 36.375 \nQ 6.59375 54.828125 13.0625 64.515625 \nQ 19.53125 74.21875 31.78125 74.21875 \nz\n\" id=\"DejaVuSans-48\"/>\n        <path d=\"M 10.6875 12.40625 \nL 21 12.40625 \nL 21 0 \nL 10.6875 0 \nz\n\" id=\"DejaVuSans-46\"/>\n       </defs>\n       <use xlink:href=\"#DejaVuSans-48\"/>\n       <use x=\"63.623047\" xlink:href=\"#DejaVuSans-46\"/>\n       <use x=\"95.410156\" xlink:href=\"#DejaVuSans-48\"/>\n      </g>\n     </g>\n    </g>\n    <g id=\"xtick_2\">\n     <g id=\"line2d_2\">\n      <g>\n       <use style=\"stroke:#000000;stroke-width:0.8;\" x=\"317.153125\" xlink:href=\"#md66746f41a\" y=\"224.64\"/>\n      </g>\n     </g>\n     <g id=\"text_2\">\n      <!-- 1.0 -->\n      <g transform=\"translate(309.201563 239.238437)scale(0.1 -0.1)\">\n       <defs>\n        <path d=\"M 12.40625 8.296875 \nL 28.515625 8.296875 \nL 28.515625 63.921875 \nL 10.984375 60.40625 \nL 10.984375 69.390625 \nL 28.421875 72.90625 \nL 38.28125 72.90625 \nL 38.28125 8.296875 \nL 54.390625 8.296875 \nL 54.390625 0 \nL 12.40625 0 \nz\n\" id=\"DejaVuSans-49\"/>\n       </defs>\n       <use xlink:href=\"#DejaVuSans-49\"/>\n       <use x=\"63.623047\" xlink:href=\"#DejaVuSans-46\"/>\n       <use x=\"95.410156\" xlink:href=\"#DejaVuSans-48\"/>\n      </g>\n     </g>\n    </g>\n    <g id=\"text_3\">\n     <!-- IsCanceled -->\n     <g transform=\"translate(206.183594 252.916562)scale(0.1 -0.1)\">\n      <defs>\n       <path d=\"M 9.8125 72.90625 \nL 19.671875 72.90625 \nL 19.671875 0 \nL 9.8125 0 \nz\n\" id=\"DejaVuSans-73\"/>\n       <path d=\"M 44.28125 53.078125 \nL 44.28125 44.578125 \nQ 40.484375 46.53125 36.375 47.5 \nQ 32.28125 48.484375 27.875 48.484375 \nQ 21.1875 48.484375 17.84375 46.4375 \nQ 14.5 44.390625 14.5 40.28125 \nQ 14.5 37.15625 16.890625 35.375 \nQ 19.28125 33.59375 26.515625 31.984375 \nL 29.59375 31.296875 \nQ 39.15625 29.25 43.1875 25.515625 \nQ 47.21875 21.78125 47.21875 15.09375 \nQ 47.21875 7.46875 41.1875 3.015625 \nQ 35.15625 -1.421875 24.609375 -1.421875 \nQ 20.21875 -1.421875 15.453125 -0.5625 \nQ 10.6875 0.296875 5.421875 2 \nL 5.421875 11.28125 \nQ 10.40625 8.6875 15.234375 7.390625 \nQ 20.0625 6.109375 24.8125 6.109375 \nQ 31.15625 6.109375 34.5625 8.28125 \nQ 37.984375 10.453125 37.984375 14.40625 \nQ 37.984375 18.0625 35.515625 20.015625 \nQ 33.0625 21.96875 24.703125 23.78125 \nL 21.578125 24.515625 \nQ 13.234375 26.265625 9.515625 29.90625 \nQ 5.8125 33.546875 5.8125 39.890625 \nQ 5.8125 47.609375 11.28125 51.796875 \nQ 16.75 56 26.8125 56 \nQ 31.78125 56 36.171875 55.265625 \nQ 40.578125 54.546875 44.28125 53.078125 \nz\n\" id=\"DejaVuSans-115\"/>\n       <path d=\"M 64.40625 67.28125 \nL 64.40625 56.890625 \nQ 59.421875 61.53125 53.78125 63.8125 \nQ 48.140625 66.109375 41.796875 66.109375 \nQ 29.296875 66.109375 22.65625 58.46875 \nQ 16.015625 50.828125 16.015625 36.375 \nQ 16.015625 21.96875 22.65625 14.328125 \nQ 29.296875 6.6875 41.796875 6.6875 \nQ 48.140625 6.6875 53.78125 8.984375 \nQ 59.421875 11.28125 64.40625 15.921875 \nL 64.40625 5.609375 \nQ 59.234375 2.09375 53.4375 0.328125 \nQ 47.65625 -1.421875 41.21875 -1.421875 \nQ 24.65625 -1.421875 15.125 8.703125 \nQ 5.609375 18.84375 5.609375 36.375 \nQ 5.609375 53.953125 15.125 64.078125 \nQ 24.65625 74.21875 41.21875 74.21875 \nQ 47.75 74.21875 53.53125 72.484375 \nQ 59.328125 70.75 64.40625 67.28125 \nz\n\" id=\"DejaVuSans-67\"/>\n       <path d=\"M 34.28125 27.484375 \nQ 23.390625 27.484375 19.1875 25 \nQ 14.984375 22.515625 14.984375 16.5 \nQ 14.984375 11.71875 18.140625 8.90625 \nQ 21.296875 6.109375 26.703125 6.109375 \nQ 34.1875 6.109375 38.703125 11.40625 \nQ 43.21875 16.703125 43.21875 25.484375 \nL 43.21875 27.484375 \nz\nM 52.203125 31.203125 \nL 52.203125 0 \nL 43.21875 0 \nL 43.21875 8.296875 \nQ 40.140625 3.328125 35.546875 0.953125 \nQ 30.953125 -1.421875 24.3125 -1.421875 \nQ 15.921875 -1.421875 10.953125 3.296875 \nQ 6 8.015625 6 15.921875 \nQ 6 25.140625 12.171875 29.828125 \nQ 18.359375 34.515625 30.609375 34.515625 \nL 43.21875 34.515625 \nL 43.21875 35.40625 \nQ 43.21875 41.609375 39.140625 45 \nQ 35.0625 48.390625 27.6875 48.390625 \nQ 23 48.390625 18.546875 47.265625 \nQ 14.109375 46.140625 10.015625 43.890625 \nL 10.015625 52.203125 \nQ 14.9375 54.109375 19.578125 55.046875 \nQ 24.21875 56 28.609375 56 \nQ 40.484375 56 46.34375 49.84375 \nQ 52.203125 43.703125 52.203125 31.203125 \nz\n\" id=\"DejaVuSans-97\"/>\n       <path d=\"M 54.890625 33.015625 \nL 54.890625 0 \nL 45.90625 0 \nL 45.90625 32.71875 \nQ 45.90625 40.484375 42.875 44.328125 \nQ 39.84375 48.1875 33.796875 48.1875 \nQ 26.515625 48.1875 22.3125 43.546875 \nQ 18.109375 38.921875 18.109375 30.90625 \nL 18.109375 0 \nL 9.078125 0 \nL 9.078125 54.6875 \nL 18.109375 54.6875 \nL 18.109375 46.1875 \nQ 21.34375 51.125 25.703125 53.5625 \nQ 30.078125 56 35.796875 56 \nQ 45.21875 56 50.046875 50.171875 \nQ 54.890625 44.34375 54.890625 33.015625 \nz\n\" id=\"DejaVuSans-110\"/>\n       <path d=\"M 48.78125 52.59375 \nL 48.78125 44.1875 \nQ 44.96875 46.296875 41.140625 47.34375 \nQ 37.3125 48.390625 33.40625 48.390625 \nQ 24.65625 48.390625 19.8125 42.84375 \nQ 14.984375 37.3125 14.984375 27.296875 \nQ 14.984375 17.28125 19.8125 11.734375 \nQ 24.65625 6.203125 33.40625 6.203125 \nQ 37.3125 6.203125 41.140625 7.25 \nQ 44.96875 8.296875 48.78125 10.40625 \nL 48.78125 2.09375 \nQ 45.015625 0.34375 40.984375 -0.53125 \nQ 36.96875 -1.421875 32.421875 -1.421875 \nQ 20.0625 -1.421875 12.78125 6.34375 \nQ 5.515625 14.109375 5.515625 27.296875 \nQ 5.515625 40.671875 12.859375 48.328125 \nQ 20.21875 56 33.015625 56 \nQ 37.15625 56 41.109375 55.140625 \nQ 45.0625 54.296875 48.78125 52.59375 \nz\n\" id=\"DejaVuSans-99\"/>\n       <path d=\"M 56.203125 29.59375 \nL 56.203125 25.203125 \nL 14.890625 25.203125 \nQ 15.484375 15.921875 20.484375 11.0625 \nQ 25.484375 6.203125 34.421875 6.203125 \nQ 39.59375 6.203125 44.453125 7.46875 \nQ 49.3125 8.734375 54.109375 11.28125 \nL 54.109375 2.78125 \nQ 49.265625 0.734375 44.1875 -0.34375 \nQ 39.109375 -1.421875 33.890625 -1.421875 \nQ 20.796875 -1.421875 13.15625 6.1875 \nQ 5.515625 13.8125 5.515625 26.8125 \nQ 5.515625 40.234375 12.765625 48.109375 \nQ 20.015625 56 32.328125 56 \nQ 43.359375 56 49.78125 48.890625 \nQ 56.203125 41.796875 56.203125 29.59375 \nz\nM 47.21875 32.234375 \nQ 47.125 39.59375 43.09375 43.984375 \nQ 39.0625 48.390625 32.421875 48.390625 \nQ 24.90625 48.390625 20.390625 44.140625 \nQ 15.875 39.890625 15.1875 32.171875 \nz\n\" id=\"DejaVuSans-101\"/>\n       <path d=\"M 9.421875 75.984375 \nL 18.40625 75.984375 \nL 18.40625 0 \nL 9.421875 0 \nz\n\" id=\"DejaVuSans-108\"/>\n       <path d=\"M 45.40625 46.390625 \nL 45.40625 75.984375 \nL 54.390625 75.984375 \nL 54.390625 0 \nL 45.40625 0 \nL 45.40625 8.203125 \nQ 42.578125 3.328125 38.25 0.953125 \nQ 33.9375 -1.421875 27.875 -1.421875 \nQ 17.96875 -1.421875 11.734375 6.484375 \nQ 5.515625 14.40625 5.515625 27.296875 \nQ 5.515625 40.1875 11.734375 48.09375 \nQ 17.96875 56 27.875 56 \nQ 33.9375 56 38.25 53.625 \nQ 42.578125 51.265625 45.40625 46.390625 \nz\nM 14.796875 27.296875 \nQ 14.796875 17.390625 18.875 11.75 \nQ 22.953125 6.109375 30.078125 6.109375 \nQ 37.203125 6.109375 41.296875 11.75 \nQ 45.40625 17.390625 45.40625 27.296875 \nQ 45.40625 37.203125 41.296875 42.84375 \nQ 37.203125 48.484375 30.078125 48.484375 \nQ 22.953125 48.484375 18.875 42.84375 \nQ 14.796875 37.203125 14.796875 27.296875 \nz\n\" id=\"DejaVuSans-100\"/>\n      </defs>\n      <use xlink:href=\"#DejaVuSans-73\"/>\n      <use x=\"29.492188\" xlink:href=\"#DejaVuSans-115\"/>\n      <use x=\"81.591797\" xlink:href=\"#DejaVuSans-67\"/>\n      <use x=\"151.416016\" xlink:href=\"#DejaVuSans-97\"/>\n      <use x=\"212.695312\" xlink:href=\"#DejaVuSans-110\"/>\n      <use x=\"276.074219\" xlink:href=\"#DejaVuSans-99\"/>\n      <use x=\"331.054688\" xlink:href=\"#DejaVuSans-101\"/>\n      <use x=\"392.578125\" xlink:href=\"#DejaVuSans-108\"/>\n      <use x=\"420.361328\" xlink:href=\"#DejaVuSans-101\"/>\n      <use x=\"481.884766\" xlink:href=\"#DejaVuSans-100\"/>\n     </g>\n    </g>\n   </g>\n   <g id=\"matplotlib.axis_2\">\n    <g id=\"ytick_1\">\n     <g id=\"line2d_3\">\n      <defs>\n       <path d=\"M 0 0 \nL -3.5 0 \n\" id=\"m33828a5600\" style=\"stroke:#000000;stroke-width:0.8;\"/>\n      </defs>\n      <g>\n       <use style=\"stroke:#000000;stroke-width:0.8;\" x=\"66.053125\" xlink:href=\"#m33828a5600\" y=\"224.64\"/>\n      </g>\n     </g>\n     <g id=\"text_4\">\n      <!-- 0 -->\n      <g transform=\"translate(52.690625 228.439219)scale(0.1 -0.1)\">\n       <use xlink:href=\"#DejaVuSans-48\"/>\n      </g>\n     </g>\n    </g>\n    <g id=\"ytick_2\">\n     <g id=\"line2d_4\">\n      <g>\n       <use style=\"stroke:#000000;stroke-width:0.8;\" x=\"66.053125\" xlink:href=\"#m33828a5600\" y=\"185.75928\"/>\n      </g>\n     </g>\n     <g id=\"text_5\">\n      <!-- 100000 -->\n      <g transform=\"translate(20.878125 189.558499)scale(0.1 -0.1)\">\n       <use xlink:href=\"#DejaVuSans-49\"/>\n       <use x=\"63.623047\" xlink:href=\"#DejaVuSans-48\"/>\n       <use x=\"127.246094\" xlink:href=\"#DejaVuSans-48\"/>\n       <use x=\"190.869141\" xlink:href=\"#DejaVuSans-48\"/>\n       <use x=\"254.492188\" xlink:href=\"#DejaVuSans-48\"/>\n       <use x=\"318.115234\" xlink:href=\"#DejaVuSans-48\"/>\n      </g>\n     </g>\n    </g>\n    <g id=\"ytick_3\">\n     <g id=\"line2d_5\">\n      <g>\n       <use style=\"stroke:#000000;stroke-width:0.8;\" x=\"66.053125\" xlink:href=\"#m33828a5600\" y=\"146.87856\"/>\n      </g>\n     </g>\n     <g id=\"text_6\">\n      <!-- 200000 -->\n      <g transform=\"translate(20.878125 150.677778)scale(0.1 -0.1)\">\n       <defs>\n        <path d=\"M 19.1875 8.296875 \nL 53.609375 8.296875 \nL 53.609375 0 \nL 7.328125 0 \nL 7.328125 8.296875 \nQ 12.9375 14.109375 22.625 23.890625 \nQ 32.328125 33.6875 34.8125 36.53125 \nQ 39.546875 41.84375 41.421875 45.53125 \nQ 43.3125 49.21875 43.3125 52.78125 \nQ 43.3125 58.59375 39.234375 62.25 \nQ 35.15625 65.921875 28.609375 65.921875 \nQ 23.96875 65.921875 18.8125 64.3125 \nQ 13.671875 62.703125 7.8125 59.421875 \nL 7.8125 69.390625 \nQ 13.765625 71.78125 18.9375 73 \nQ 24.125 74.21875 28.421875 74.21875 \nQ 39.75 74.21875 46.484375 68.546875 \nQ 53.21875 62.890625 53.21875 53.421875 \nQ 53.21875 48.921875 51.53125 44.890625 \nQ 49.859375 40.875 45.40625 35.40625 \nQ 44.1875 33.984375 37.640625 27.21875 \nQ 31.109375 20.453125 19.1875 8.296875 \nz\n\" id=\"DejaVuSans-50\"/>\n       </defs>\n       <use xlink:href=\"#DejaVuSans-50\"/>\n       <use x=\"63.623047\" xlink:href=\"#DejaVuSans-48\"/>\n       <use x=\"127.246094\" xlink:href=\"#DejaVuSans-48\"/>\n       <use x=\"190.869141\" xlink:href=\"#DejaVuSans-48\"/>\n       <use x=\"254.492188\" xlink:href=\"#DejaVuSans-48\"/>\n       <use x=\"318.115234\" xlink:href=\"#DejaVuSans-48\"/>\n      </g>\n     </g>\n    </g>\n    <g id=\"ytick_4\">\n     <g id=\"line2d_6\">\n      <g>\n       <use style=\"stroke:#000000;stroke-width:0.8;\" x=\"66.053125\" xlink:href=\"#m33828a5600\" y=\"107.997839\"/>\n      </g>\n     </g>\n     <g id=\"text_7\">\n      <!-- 300000 -->\n      <g transform=\"translate(20.878125 111.797058)scale(0.1 -0.1)\">\n       <defs>\n        <path d=\"M 40.578125 39.3125 \nQ 47.65625 37.796875 51.625 33 \nQ 55.609375 28.21875 55.609375 21.1875 \nQ 55.609375 10.40625 48.1875 4.484375 \nQ 40.765625 -1.421875 27.09375 -1.421875 \nQ 22.515625 -1.421875 17.65625 -0.515625 \nQ 12.796875 0.390625 7.625 2.203125 \nL 7.625 11.71875 \nQ 11.71875 9.328125 16.59375 8.109375 \nQ 21.484375 6.890625 26.8125 6.890625 \nQ 36.078125 6.890625 40.9375 10.546875 \nQ 45.796875 14.203125 45.796875 21.1875 \nQ 45.796875 27.640625 41.28125 31.265625 \nQ 36.765625 34.90625 28.71875 34.90625 \nL 20.21875 34.90625 \nL 20.21875 43.015625 \nL 29.109375 43.015625 \nQ 36.375 43.015625 40.234375 45.921875 \nQ 44.09375 48.828125 44.09375 54.296875 \nQ 44.09375 59.90625 40.109375 62.90625 \nQ 36.140625 65.921875 28.71875 65.921875 \nQ 24.65625 65.921875 20.015625 65.03125 \nQ 15.375 64.15625 9.8125 62.3125 \nL 9.8125 71.09375 \nQ 15.4375 72.65625 20.34375 73.4375 \nQ 25.25 74.21875 29.59375 74.21875 \nQ 40.828125 74.21875 47.359375 69.109375 \nQ 53.90625 64.015625 53.90625 55.328125 \nQ 53.90625 49.265625 50.4375 45.09375 \nQ 46.96875 40.921875 40.578125 39.3125 \nz\n\" id=\"DejaVuSans-51\"/>\n       </defs>\n       <use xlink:href=\"#DejaVuSans-51\"/>\n       <use x=\"63.623047\" xlink:href=\"#DejaVuSans-48\"/>\n       <use x=\"127.246094\" xlink:href=\"#DejaVuSans-48\"/>\n       <use x=\"190.869141\" xlink:href=\"#DejaVuSans-48\"/>\n       <use x=\"254.492188\" xlink:href=\"#DejaVuSans-48\"/>\n       <use x=\"318.115234\" xlink:href=\"#DejaVuSans-48\"/>\n      </g>\n     </g>\n    </g>\n    <g id=\"ytick_5\">\n     <g id=\"line2d_7\">\n      <g>\n       <use style=\"stroke:#000000;stroke-width:0.8;\" x=\"66.053125\" xlink:href=\"#m33828a5600\" y=\"69.117119\"/>\n      </g>\n     </g>\n     <g id=\"text_8\">\n      <!-- 400000 -->\n      <g transform=\"translate(20.878125 72.916338)scale(0.1 -0.1)\">\n       <defs>\n        <path d=\"M 37.796875 64.3125 \nL 12.890625 25.390625 \nL 37.796875 25.390625 \nz\nM 35.203125 72.90625 \nL 47.609375 72.90625 \nL 47.609375 25.390625 \nL 58.015625 25.390625 \nL 58.015625 17.1875 \nL 47.609375 17.1875 \nL 47.609375 0 \nL 37.796875 0 \nL 37.796875 17.1875 \nL 4.890625 17.1875 \nL 4.890625 26.703125 \nz\n\" id=\"DejaVuSans-52\"/>\n       </defs>\n       <use xlink:href=\"#DejaVuSans-52\"/>\n       <use x=\"63.623047\" xlink:href=\"#DejaVuSans-48\"/>\n       <use x=\"127.246094\" xlink:href=\"#DejaVuSans-48\"/>\n       <use x=\"190.869141\" xlink:href=\"#DejaVuSans-48\"/>\n       <use x=\"254.492188\" xlink:href=\"#DejaVuSans-48\"/>\n       <use x=\"318.115234\" xlink:href=\"#DejaVuSans-48\"/>\n      </g>\n     </g>\n    </g>\n    <g id=\"ytick_6\">\n     <g id=\"line2d_8\">\n      <g>\n       <use style=\"stroke:#000000;stroke-width:0.8;\" x=\"66.053125\" xlink:href=\"#m33828a5600\" y=\"30.236399\"/>\n      </g>\n     </g>\n     <g id=\"text_9\">\n      <!-- 500000 -->\n      <g transform=\"translate(20.878125 34.035618)scale(0.1 -0.1)\">\n       <defs>\n        <path d=\"M 10.796875 72.90625 \nL 49.515625 72.90625 \nL 49.515625 64.59375 \nL 19.828125 64.59375 \nL 19.828125 46.734375 \nQ 21.96875 47.46875 24.109375 47.828125 \nQ 26.265625 48.1875 28.421875 48.1875 \nQ 40.625 48.1875 47.75 41.5 \nQ 54.890625 34.8125 54.890625 23.390625 \nQ 54.890625 11.625 47.5625 5.09375 \nQ 40.234375 -1.421875 26.90625 -1.421875 \nQ 22.3125 -1.421875 17.546875 -0.640625 \nQ 12.796875 0.140625 7.71875 1.703125 \nL 7.71875 11.625 \nQ 12.109375 9.234375 16.796875 8.0625 \nQ 21.484375 6.890625 26.703125 6.890625 \nQ 35.15625 6.890625 40.078125 11.328125 \nQ 45.015625 15.765625 45.015625 23.390625 \nQ 45.015625 31 40.078125 35.4375 \nQ 35.15625 39.890625 26.703125 39.890625 \nQ 22.75 39.890625 18.8125 39.015625 \nQ 14.890625 38.140625 10.796875 36.28125 \nz\n\" id=\"DejaVuSans-53\"/>\n       </defs>\n       <use xlink:href=\"#DejaVuSans-53\"/>\n       <use x=\"63.623047\" xlink:href=\"#DejaVuSans-48\"/>\n       <use x=\"127.246094\" xlink:href=\"#DejaVuSans-48\"/>\n       <use x=\"190.869141\" xlink:href=\"#DejaVuSans-48\"/>\n       <use x=\"254.492188\" xlink:href=\"#DejaVuSans-48\"/>\n       <use x=\"318.115234\" xlink:href=\"#DejaVuSans-48\"/>\n      </g>\n     </g>\n    </g>\n    <g id=\"text_10\">\n     <!-- count -->\n     <g transform=\"translate(14.798438 130.02625)rotate(-90)scale(0.1 -0.1)\">\n      <defs>\n       <path d=\"M 30.609375 48.390625 \nQ 23.390625 48.390625 19.1875 42.75 \nQ 14.984375 37.109375 14.984375 27.296875 \nQ 14.984375 17.484375 19.15625 11.84375 \nQ 23.34375 6.203125 30.609375 6.203125 \nQ 37.796875 6.203125 41.984375 11.859375 \nQ 46.1875 17.53125 46.1875 27.296875 \nQ 46.1875 37.015625 41.984375 42.703125 \nQ 37.796875 48.390625 30.609375 48.390625 \nz\nM 30.609375 56 \nQ 42.328125 56 49.015625 48.375 \nQ 55.71875 40.765625 55.71875 27.296875 \nQ 55.71875 13.875 49.015625 6.21875 \nQ 42.328125 -1.421875 30.609375 -1.421875 \nQ 18.84375 -1.421875 12.171875 6.21875 \nQ 5.515625 13.875 5.515625 27.296875 \nQ 5.515625 40.765625 12.171875 48.375 \nQ 18.84375 56 30.609375 56 \nz\n\" id=\"DejaVuSans-111\"/>\n       <path d=\"M 8.5 21.578125 \nL 8.5 54.6875 \nL 17.484375 54.6875 \nL 17.484375 21.921875 \nQ 17.484375 14.15625 20.5 10.265625 \nQ 23.53125 6.390625 29.59375 6.390625 \nQ 36.859375 6.390625 41.078125 11.03125 \nQ 45.3125 15.671875 45.3125 23.6875 \nL 45.3125 54.6875 \nL 54.296875 54.6875 \nL 54.296875 0 \nL 45.3125 0 \nL 45.3125 8.40625 \nQ 42.046875 3.421875 37.71875 1 \nQ 33.40625 -1.421875 27.6875 -1.421875 \nQ 18.265625 -1.421875 13.375 4.4375 \nQ 8.5 10.296875 8.5 21.578125 \nz\nM 31.109375 56 \nz\n\" id=\"DejaVuSans-117\"/>\n       <path d=\"M 18.3125 70.21875 \nL 18.3125 54.6875 \nL 36.8125 54.6875 \nL 36.8125 47.703125 \nL 18.3125 47.703125 \nL 18.3125 18.015625 \nQ 18.3125 11.328125 20.140625 9.421875 \nQ 21.96875 7.515625 27.59375 7.515625 \nL 36.8125 7.515625 \nL 36.8125 0 \nL 27.59375 0 \nQ 17.1875 0 13.234375 3.875 \nQ 9.28125 7.765625 9.28125 18.015625 \nL 9.28125 47.703125 \nL 2.6875 47.703125 \nL 2.6875 54.6875 \nL 9.28125 54.6875 \nL 9.28125 70.21875 \nz\n\" id=\"DejaVuSans-116\"/>\n      </defs>\n      <use xlink:href=\"#DejaVuSans-99\"/>\n      <use x=\"54.980469\" xlink:href=\"#DejaVuSans-111\"/>\n      <use x=\"116.162109\" xlink:href=\"#DejaVuSans-117\"/>\n      <use x=\"179.541016\" xlink:href=\"#DejaVuSans-110\"/>\n      <use x=\"242.919922\" xlink:href=\"#DejaVuSans-116\"/>\n     </g>\n    </g>\n   </g>\n   <g id=\"patch_5\">\n    <path d=\"M 66.053125 224.64 \nL 66.053125 7.2 \n\" style=\"fill:none;stroke:#000000;stroke-linecap:square;stroke-linejoin:miter;stroke-width:0.8;\"/>\n   </g>\n   <g id=\"patch_6\">\n    <path d=\"M 400.853125 224.64 \nL 400.853125 7.2 \n\" style=\"fill:none;stroke:#000000;stroke-linecap:square;stroke-linejoin:miter;stroke-width:0.8;\"/>\n   </g>\n   <g id=\"patch_7\">\n    <path d=\"M 66.053125 224.64 \nL 400.853125 224.64 \n\" style=\"fill:none;stroke:#000000;stroke-linecap:square;stroke-linejoin:miter;stroke-width:0.8;\"/>\n   </g>\n   <g id=\"patch_8\">\n    <path d=\"M 66.053125 7.2 \nL 400.853125 7.2 \n\" style=\"fill:none;stroke:#000000;stroke-linecap:square;stroke-linejoin:miter;stroke-width:0.8;\"/>\n   </g>\n   <g id=\"text_11\">\n    <!-- 532618 -->\n    <g transform=\"translate(99.533125 17.534845)scale(0.1 -0.1)\">\n     <defs>\n      <path d=\"M 33.015625 40.375 \nQ 26.375 40.375 22.484375 35.828125 \nQ 18.609375 31.296875 18.609375 23.390625 \nQ 18.609375 15.53125 22.484375 10.953125 \nQ 26.375 6.390625 33.015625 6.390625 \nQ 39.65625 6.390625 43.53125 10.953125 \nQ 47.40625 15.53125 47.40625 23.390625 \nQ 47.40625 31.296875 43.53125 35.828125 \nQ 39.65625 40.375 33.015625 40.375 \nz\nM 52.59375 71.296875 \nL 52.59375 62.3125 \nQ 48.875 64.0625 45.09375 64.984375 \nQ 41.3125 65.921875 37.59375 65.921875 \nQ 27.828125 65.921875 22.671875 59.328125 \nQ 17.53125 52.734375 16.796875 39.40625 \nQ 19.671875 43.65625 24.015625 45.921875 \nQ 28.375 48.1875 33.59375 48.1875 \nQ 44.578125 48.1875 50.953125 41.515625 \nQ 57.328125 34.859375 57.328125 23.390625 \nQ 57.328125 12.15625 50.6875 5.359375 \nQ 44.046875 -1.421875 33.015625 -1.421875 \nQ 20.359375 -1.421875 13.671875 8.265625 \nQ 6.984375 17.96875 6.984375 36.375 \nQ 6.984375 53.65625 15.1875 63.9375 \nQ 23.390625 74.21875 37.203125 74.21875 \nQ 40.921875 74.21875 44.703125 73.484375 \nQ 48.484375 72.75 52.59375 71.296875 \nz\n\" id=\"DejaVuSans-54\"/>\n      <path d=\"M 31.78125 34.625 \nQ 24.75 34.625 20.71875 30.859375 \nQ 16.703125 27.09375 16.703125 20.515625 \nQ 16.703125 13.921875 20.71875 10.15625 \nQ 24.75 6.390625 31.78125 6.390625 \nQ 38.8125 6.390625 42.859375 10.171875 \nQ 46.921875 13.96875 46.921875 20.515625 \nQ 46.921875 27.09375 42.890625 30.859375 \nQ 38.875 34.625 31.78125 34.625 \nz\nM 21.921875 38.8125 \nQ 15.578125 40.375 12.03125 44.71875 \nQ 8.5 49.078125 8.5 55.328125 \nQ 8.5 64.0625 14.71875 69.140625 \nQ 20.953125 74.21875 31.78125 74.21875 \nQ 42.671875 74.21875 48.875 69.140625 \nQ 55.078125 64.0625 55.078125 55.328125 \nQ 55.078125 49.078125 51.53125 44.71875 \nQ 48 40.375 41.703125 38.8125 \nQ 48.828125 37.15625 52.796875 32.3125 \nQ 56.78125 27.484375 56.78125 20.515625 \nQ 56.78125 9.90625 50.3125 4.234375 \nQ 43.84375 -1.421875 31.78125 -1.421875 \nQ 19.734375 -1.421875 13.25 4.234375 \nQ 6.78125 9.90625 6.78125 20.515625 \nQ 6.78125 27.484375 10.78125 32.3125 \nQ 14.796875 37.15625 21.921875 38.8125 \nz\nM 18.3125 54.390625 \nQ 18.3125 48.734375 21.84375 45.5625 \nQ 25.390625 42.390625 31.78125 42.390625 \nQ 38.140625 42.390625 41.71875 45.5625 \nQ 45.3125 48.734375 45.3125 54.390625 \nQ 45.3125 60.0625 41.71875 63.234375 \nQ 38.140625 66.40625 31.78125 66.40625 \nQ 25.390625 66.40625 21.84375 63.234375 \nQ 18.3125 60.0625 18.3125 54.390625 \nz\n\" id=\"DejaVuSans-56\"/>\n     </defs>\n     <use xlink:href=\"#DejaVuSans-53\"/>\n     <use x=\"63.623047\" xlink:href=\"#DejaVuSans-51\"/>\n     <use x=\"127.246094\" xlink:href=\"#DejaVuSans-50\"/>\n     <use x=\"190.869141\" xlink:href=\"#DejaVuSans-54\"/>\n     <use x=\"254.492188\" xlink:href=\"#DejaVuSans-49\"/>\n     <use x=\"318.115234\" xlink:href=\"#DejaVuSans-56\"/>\n    </g>\n   </g>\n   <g id=\"text_12\">\n    <!-- 9288 -->\n    <g transform=\"translate(266.933125 221.009318)scale(0.1 -0.1)\">\n     <defs>\n      <path d=\"M 10.984375 1.515625 \nL 10.984375 10.5 \nQ 14.703125 8.734375 18.5 7.8125 \nQ 22.3125 6.890625 25.984375 6.890625 \nQ 35.75 6.890625 40.890625 13.453125 \nQ 46.046875 20.015625 46.78125 33.40625 \nQ 43.953125 29.203125 39.59375 26.953125 \nQ 35.25 24.703125 29.984375 24.703125 \nQ 19.046875 24.703125 12.671875 31.3125 \nQ 6.296875 37.9375 6.296875 49.421875 \nQ 6.296875 60.640625 12.9375 67.421875 \nQ 19.578125 74.21875 30.609375 74.21875 \nQ 43.265625 74.21875 49.921875 64.515625 \nQ 56.59375 54.828125 56.59375 36.375 \nQ 56.59375 19.140625 48.40625 8.859375 \nQ 40.234375 -1.421875 26.421875 -1.421875 \nQ 22.703125 -1.421875 18.890625 -0.6875 \nQ 15.09375 0.046875 10.984375 1.515625 \nz\nM 30.609375 32.421875 \nQ 37.25 32.421875 41.125 36.953125 \nQ 45.015625 41.5 45.015625 49.421875 \nQ 45.015625 57.28125 41.125 61.84375 \nQ 37.25 66.40625 30.609375 66.40625 \nQ 23.96875 66.40625 20.09375 61.84375 \nQ 16.21875 57.28125 16.21875 49.421875 \nQ 16.21875 41.5 20.09375 36.953125 \nQ 23.96875 32.421875 30.609375 32.421875 \nz\n\" id=\"DejaVuSans-57\"/>\n     </defs>\n     <use xlink:href=\"#DejaVuSans-57\"/>\n     <use x=\"63.623047\" xlink:href=\"#DejaVuSans-50\"/>\n     <use x=\"127.246094\" xlink:href=\"#DejaVuSans-56\"/>\n     <use x=\"190.869141\" xlink:href=\"#DejaVuSans-56\"/>\n    </g>\n   </g>\n  </g>\n </g>\n <defs>\n  <clipPath id=\"p330bb6cd3e\">\n   <rect height=\"217.44\" width=\"334.8\" x=\"66.053125\" y=\"7.2\"/>\n  </clipPath>\n </defs>\n</svg>\n",
      "image/png": "[encoded data removed]"
     },
     "metadata": {
      "needs_background": "light"
     }
    }
   ],
   "source": [
    "ax = sns.countplot(df['IsCanceled'])\n",
    "for p in ax.patches:\n",
    "        ax.annotate('{}'.format(p.get_height()), (p.get_x()+0.1, p.get_height()+50))"
   ]
  },
  {
   "source": [
    "## 541906項交易記錄中, 共532618件成功交易, 9288件取消交易,"
   ],
   "cell_type": "markdown",
   "metadata": {}
  },
  {
   "cell_type": "code",
   "execution_count": 68,
   "metadata": {},
   "outputs": [
    {
     "output_type": "execute_result",
     "data": {
      "text/plain": [
       "       InvoiceNo ItemCode DescriptionCode  Quantity         SellDate  \\\n",
       "2406      536589    21777            None       -10  12/1/2018 16:50   \n",
       "4347      536764   84952C            None       -38  12/2/2018 14:42   \n",
       "7188      536996    22712            None       -20  12/3/2018 15:30   \n",
       "7189      536997    22028            None       -20  12/3/2018 15:30   \n",
       "7190      536998    85067            None        -6  12/3/2018 15:30   \n",
       "...          ...      ...             ...       ...              ...   \n",
       "535333    581210    23395         8040807       -26  12/7/2011 18:36   \n",
       "535335    581212    22578         7082639     -1050  12/7/2011 18:38   \n",
       "535336    581213    22576         8040807       -30  12/7/2011 18:38   \n",
       "536908    581226    23090         1452540      -338   12/8/2011 9:56   \n",
       "538919    581422    23169         9479665      -235  12/8/2011 15:24   \n",
       "\n",
       "        NewTaiwanDollors  CustomerID             District  IsCanceled  \\\n",
       "2406                 0.0         NaN  Zhongzheng District         0.0   \n",
       "4347                 0.0         NaN  Zhongzheng District         0.0   \n",
       "7188                 0.0         NaN  Zhongzheng District         0.0   \n",
       "7189                 0.0         NaN  Zhongzheng District         0.0   \n",
       "7190                 0.0         NaN  Zhongzheng District         0.0   \n",
       "...                  ...         ...                  ...         ...   \n",
       "535333               0.0         NaN  Zhongzheng District         0.0   \n",
       "535335               0.0         NaN  Zhongzheng District         0.0   \n",
       "535336               0.0         NaN  Zhongzheng District         0.0   \n",
       "536908               0.0         NaN  Zhongzheng District         0.0   \n",
       "538919               0.0         NaN  Zhongzheng District         0.0   \n",
       "\n",
       "       InvoiceNo_num  \n",
       "2406          536589  \n",
       "4347          536764  \n",
       "7188          536996  \n",
       "7189          536997  \n",
       "7190          536998  \n",
       "...              ...  \n",
       "535333        581210  \n",
       "535335        581212  \n",
       "535336        581213  \n",
       "536908        581226  \n",
       "538919        581422  \n",
       "\n",
       "[1336 rows x 10 columns]"
      ],
      "text/html": "<div>\n<style scoped>\n    .dataframe tbody tr th:only-of-type {\n        vertical-align: middle;\n    }\n\n    .dataframe tbody tr th {\n        vertical-align: top;\n    }\n\n    .dataframe thead th {\n        text-align: right;\n    }\n</style>\n<table border=\"1\" class=\"dataframe\">\n  <thead>\n    <tr style=\"text-align: right;\">\n      <th></th>\n      <th>InvoiceNo</th>\n      <th>ItemCode</th>\n      <th>DescriptionCode</th>\n      <th>Quantity</th>\n      <th>SellDate</th>\n      <th>NewTaiwanDollors</th>\n      <th>CustomerID</th>\n      <th>District</th>\n      <th>IsCanceled</th>\n      <th>InvoiceNo_num</th>\n    </tr>\n  </thead>\n  <tbody>\n    <tr>\n      <th>2406</th>\n      <td>536589</td>\n      <td>21777</td>\n      <td>None</td>\n      <td>-10</td>\n      <td>12/1/2018 16:50</td>\n      <td>0.0</td>\n      <td>NaN</td>\n      <td>Zhongzheng District</td>\n      <td>0.0</td>\n      <td>536589</td>\n    </tr>\n    <tr>\n      <th>4347</th>\n      <td>536764</td>\n      <td>84952C</td>\n      <td>None</td>\n      <td>-38</td>\n      <td>12/2/2018 14:42</td>\n      <td>0.0</td>\n      <td>NaN</td>\n      <td>Zhongzheng District</td>\n      <td>0.0</td>\n      <td>536764</td>\n    </tr>\n    <tr>\n      <th>7188</th>\n      <td>536996</td>\n      <td>22712</td>\n      <td>None</td>\n      <td>-20</td>\n      <td>12/3/2018 15:30</td>\n      <td>0.0</td>\n      <td>NaN</td>\n      <td>Zhongzheng District</td>\n      <td>0.0</td>\n      <td>536996</td>\n    </tr>\n    <tr>\n      <th>7189</th>\n      <td>536997</td>\n      <td>22028</td>\n      <td>None</td>\n      <td>-20</td>\n      <td>12/3/2018 15:30</td>\n      <td>0.0</td>\n      <td>NaN</td>\n      <td>Zhongzheng District</td>\n      <td>0.0</td>\n      <td>536997</td>\n    </tr>\n    <tr>\n      <th>7190</th>\n      <td>536998</td>\n      <td>85067</td>\n      <td>None</td>\n      <td>-6</td>\n      <td>12/3/2018 15:30</td>\n      <td>0.0</td>\n      <td>NaN</td>\n      <td>Zhongzheng District</td>\n      <td>0.0</td>\n      <td>536998</td>\n    </tr>\n    <tr>\n      <th>...</th>\n      <td>...</td>\n      <td>...</td>\n      <td>...</td>\n      <td>...</td>\n      <td>...</td>\n      <td>...</td>\n      <td>...</td>\n      <td>...</td>\n      <td>...</td>\n      <td>...</td>\n    </tr>\n    <tr>\n      <th>535333</th>\n      <td>581210</td>\n      <td>23395</td>\n      <td>8040807</td>\n      <td>-26</td>\n      <td>12/7/2011 18:36</td>\n      <td>0.0</td>\n      <td>NaN</td>\n      <td>Zhongzheng District</td>\n      <td>0.0</td>\n      <td>581210</td>\n    </tr>\n    <tr>\n      <th>535335</th>\n      <td>581212</td>\n      <td>22578</td>\n      <td>7082639</td>\n      <td>-1050</td>\n      <td>12/7/2011 18:38</td>\n      <td>0.0</td>\n      <td>NaN</td>\n      <td>Zhongzheng District</td>\n      <td>0.0</td>\n      <td>581212</td>\n    </tr>\n    <tr>\n      <th>535336</th>\n      <td>581213</td>\n      <td>22576</td>\n      <td>8040807</td>\n      <td>-30</td>\n      <td>12/7/2011 18:38</td>\n      <td>0.0</td>\n      <td>NaN</td>\n      <td>Zhongzheng District</td>\n      <td>0.0</td>\n      <td>581213</td>\n    </tr>\n    <tr>\n      <th>536908</th>\n      <td>581226</td>\n      <td>23090</td>\n      <td>1452540</td>\n      <td>-338</td>\n      <td>12/8/2011 9:56</td>\n      <td>0.0</td>\n      <td>NaN</td>\n      <td>Zhongzheng District</td>\n      <td>0.0</td>\n      <td>581226</td>\n    </tr>\n    <tr>\n      <th>538919</th>\n      <td>581422</td>\n      <td>23169</td>\n      <td>9479665</td>\n      <td>-235</td>\n      <td>12/8/2011 15:24</td>\n      <td>0.0</td>\n      <td>NaN</td>\n      <td>Zhongzheng District</td>\n      <td>0.0</td>\n      <td>581422</td>\n    </tr>\n  </tbody>\n</table>\n<p>1336 rows × 10 columns</p>\n</div>"
     },
     "metadata": {},
     "execution_count": 68
    }
   ],
   "source": [
    "df[(df['IsCanceled'] == 0) & (df['Quantity'] < 0)]\n",
    "# df[(df['IsCanceled'] != 0) & (df['Quantity'] > 0)]"
   ]
  },
  {
   "cell_type": "code",
   "execution_count": 69,
   "metadata": {},
   "outputs": [],
   "source": [
    "df = df.drop(df[(df['IsCanceled'] == 0) & (df['Quantity'] < 0)].index)"
   ]
  },
  {
   "source": [
    "觀察到未取消訂單但Quantity<0的情況, 將這些資料共 1336筆視爲noise, drop掉"
   ],
   "cell_type": "markdown",
   "metadata": {}
  },
  {
   "source": [
    "## 接着觀察 Itemcode 欄位"
   ],
   "cell_type": "markdown",
   "metadata": {}
  },
  {
   "cell_type": "code",
   "execution_count": 70,
   "metadata": {},
   "outputs": [
    {
     "output_type": "stream",
     "name": "stdout",
     "text": [
      "總交易商品數: 540570\n商品種類數: 3956\n"
     ]
    }
   ],
   "source": [
    "print('總交易商品數:', df['ItemCode'].count())\n",
    "print('商品種類數:', df['ItemCode'].nunique())"
   ]
  },
  {
   "cell_type": "code",
   "execution_count": 71,
   "metadata": {},
   "outputs": [
    {
     "output_type": "execute_result",
     "data": {
      "text/plain": [
       "85123A    2312\n",
       "22423     2200\n",
       "85099B    2159\n",
       "47566     1727\n",
       "20725     1639\n",
       "          ... \n",
       "90037A       1\n",
       "84963A       1\n",
       "21134        1\n",
       "85098B       1\n",
       "90187A       1\n",
       "Name: ItemCode, Length: 3956, dtype: int64"
      ]
     },
     "metadata": {},
     "execution_count": 71
    }
   ],
   "source": [
    "# 觀察 ItemCode 的分佈（由於種類太多, 高達4069, 無法直接做圖）\n",
    "vc = df['ItemCode'].value_counts()\n",
    "vc"
   ]
  },
  {
   "source": [],
   "cell_type": "markdown",
   "metadata": {}
  },
  {
   "cell_type": "code",
   "execution_count": 72,
   "metadata": {},
   "outputs": [
    {
     "output_type": "execute_result",
     "data": {
      "text/plain": [
       "<matplotlib.legend.Legend at 0x133c7ee48>"
      ]
     },
     "metadata": {},
     "execution_count": 72
    },
    {
     "output_type": "display_data",
     "data": {
      "text/plain": "<Figure size 432x288 with 3 Axes>",
      "image/svg+xml": "<?xml version=\"1.0\" encoding=\"utf-8\" standalone=\"no\"?>\n<!DOCTYPE svg PUBLIC \"-//W3C//DTD SVG 1.1//EN\"\n  \"http://www.w3.org/Graphics/SVG/1.1/DTD/svg11.dtd\">\n<!-- Created with matplotlib (https://matplotlib.org/) -->\n<svg height=\"201.915294pt\" version=\"1.1\" viewBox=\"0 0 387.4 201.915294\" width=\"387.4pt\" xmlns=\"http://www.w3.org/2000/svg\" xmlns:xlink=\"http://www.w3.org/1999/xlink\">\n <metadata>\n  <rdf:RDF xmlns:cc=\"http://creativecommons.org/ns#\" xmlns:dc=\"http://purl.org/dc/elements/1.1/\" xmlns:rdf=\"http://www.w3.org/1999/02/22-rdf-syntax-ns#\">\n   <cc:Work>\n    <dc:type rdf:resource=\"http://purl.org/dc/dcmitype/StillImage\"/>\n    <dc:date>2021-02-09T16:29:34.410338</dc:date>\n    <dc:format>image/svg+xml</dc:format>\n    <dc:creator>\n     <cc:Agent>\n      <dc:title>Matplotlib v3.3.4, https://matplotlib.org/</dc:title>\n     </cc:Agent>\n    </dc:creator>\n   </cc:Work>\n  </rdf:RDF>\n </metadata>\n <defs>\n  <style type=\"text/css\">*{stroke-linecap:butt;stroke-linejoin:round;}</style>\n </defs>\n <g id=\"figure_1\">\n  <g id=\"patch_1\">\n   <path d=\"M 0 201.915294 \nL 387.4 201.915294 \nL 387.4 0 \nL 0 0 \nz\n\" style=\"fill:none;\"/>\n  </g>\n  <g id=\"axes_1\">\n   <g id=\"patch_2\">\n    <path d=\"M 55.647529 106.879529 \nC 51.439325 106.879529 47.258183 107.553931 43.263391 108.877041 \nC 39.268598 110.200152 35.511537 112.154954 32.135336 114.666976 \nC 28.759135 117.178999 25.80722 120.215932 23.392048 123.662079 \nC 20.976877 127.108227 19.129512 130.919264 17.920332 134.950005 \nC 16.711153 138.980746 16.155711 143.179347 16.275167 147.385856 \nC 16.394622 151.592365 17.18744 155.752678 18.623415 159.708302 \nC 20.05939 163.663926 22.120054 167.363984 24.726902 170.667517 \nC 27.333751 173.97105 30.453254 176.835567 33.966571 179.151942 \nC 37.479888 181.468317 41.34183 183.206755 45.40527 184.301029 \nC 49.468711 185.395303 53.681387 185.831338 57.88281 185.592523 \nC 62.084233 185.353707 66.220364 184.443113 70.133632 182.895431 \nC 74.0469 181.347748 77.686972 179.182883 80.915175 176.48331 \nC 84.143377 173.783737 86.918189 170.584177 89.1339 167.006522 \nC 91.349611 163.428868 92.977722 159.519134 93.956209 155.426268 \nC 94.934695 151.333402 95.250972 147.110047 94.892989 142.917096 \nC 94.535006 138.724145 93.507369 134.615529 91.849227 130.747771 \nL 55.647529 146.267765 \nL 55.647529 106.879529 \nz\n\" style=\"fill:#002b40;opacity:0.5;stroke:#002b40;stroke-linejoin:miter;\"/>\n   </g>\n   <g id=\"patch_3\">\n    <path d=\"M 91.849227 130.747771 \nC 88.812543 123.66445 83.762697 117.625745 77.328491 113.383589 \nC 70.894285 109.141434 63.354345 106.879531 55.647537 106.879529 \nL 55.647529 146.267765 \nL 91.849227 130.747771 \nz\n\" style=\"fill:#4c180e;opacity:0.5;stroke:#4c180e;stroke-linejoin:miter;\"/>\n   </g>\n   <g id=\"patch_4\">\n    <path d=\"M 56.435294 106.091765 \nC 52.227089 106.091765 48.045948 106.766166 44.051155 108.089277 \nC 40.056363 109.412387 36.299301 111.367189 32.9231 113.879212 \nC 29.5469 116.391234 26.594985 119.428167 24.179813 122.874314 \nC 21.764641 126.320462 19.917277 130.131499 18.708097 134.16224 \nC 17.498917 138.192981 16.943475 142.391582 17.062931 146.598091 \nC 17.182387 150.8046 17.975204 154.964913 19.41118 158.920537 \nC 20.847155 162.876161 22.907819 166.576219 25.514667 169.879752 \nC 28.121515 173.183285 31.241019 176.047803 34.754336 178.364177 \nC 38.267652 180.680552 42.129594 182.418991 46.193035 183.513265 \nC 50.256476 184.607539 54.469152 185.043574 58.670575 184.804758 \nC 62.871998 184.565943 67.008129 183.655348 70.921397 182.107666 \nC 74.834665 180.559983 78.474737 178.395119 81.702939 175.695545 \nC 84.931142 172.995972 87.705954 169.796412 89.921665 166.218758 \nC 92.137375 162.641103 93.765487 158.731369 94.743973 154.638503 \nC 95.72246 150.545637 96.038736 146.322282 95.680754 142.129331 \nC 95.322771 137.93638 94.295134 133.827764 92.636991 129.960007 \nL 56.435294 145.48 \nL 56.435294 106.091765 \nz\n\" style=\"fill:#008fd5;stroke:#000000;stroke-linejoin:miter;\"/>\n   </g>\n   <g id=\"patch_5\">\n    <path d=\"M 92.636991 129.960007 \nC 89.600308 122.876685 84.550462 116.83798 78.116256 112.595825 \nC 71.68205 108.35367 64.142109 106.091766 56.435301 106.091765 \nL 56.435294 145.48 \nL 92.636991 129.960007 \nz\n\" style=\"fill:#fc4f30;stroke:#000000;stroke-linejoin:miter;\"/>\n   </g>\n   <g id=\"matplotlib.axis_1\"/>\n   <g id=\"matplotlib.axis_2\"/>\n   <g id=\"text_1\">\n    <!-- 81% -->\n    <g transform=\"translate(32.313438 167.969881)scale(0.1 -0.1)\">\n     <defs>\n      <path d=\"M 31.78125 34.625 \nQ 24.75 34.625 20.71875 30.859375 \nQ 16.703125 27.09375 16.703125 20.515625 \nQ 16.703125 13.921875 20.71875 10.15625 \nQ 24.75 6.390625 31.78125 6.390625 \nQ 38.8125 6.390625 42.859375 10.171875 \nQ 46.921875 13.96875 46.921875 20.515625 \nQ 46.921875 27.09375 42.890625 30.859375 \nQ 38.875 34.625 31.78125 34.625 \nz\nM 21.921875 38.8125 \nQ 15.578125 40.375 12.03125 44.71875 \nQ 8.5 49.078125 8.5 55.328125 \nQ 8.5 64.0625 14.71875 69.140625 \nQ 20.953125 74.21875 31.78125 74.21875 \nQ 42.671875 74.21875 48.875 69.140625 \nQ 55.078125 64.0625 55.078125 55.328125 \nQ 55.078125 49.078125 51.53125 44.71875 \nQ 48 40.375 41.703125 38.8125 \nQ 48.828125 37.15625 52.796875 32.3125 \nQ 56.78125 27.484375 56.78125 20.515625 \nQ 56.78125 9.90625 50.3125 4.234375 \nQ 43.84375 -1.421875 31.78125 -1.421875 \nQ 19.734375 -1.421875 13.25 4.234375 \nQ 6.78125 9.90625 6.78125 20.515625 \nQ 6.78125 27.484375 10.78125 32.3125 \nQ 14.796875 37.15625 21.921875 38.8125 \nz\nM 18.3125 54.390625 \nQ 18.3125 48.734375 21.84375 45.5625 \nQ 25.390625 42.390625 31.78125 42.390625 \nQ 38.140625 42.390625 41.71875 45.5625 \nQ 45.3125 48.734375 45.3125 54.390625 \nQ 45.3125 60.0625 41.71875 63.234375 \nQ 38.140625 66.40625 31.78125 66.40625 \nQ 25.390625 66.40625 21.84375 63.234375 \nQ 18.3125 60.0625 18.3125 54.390625 \nz\n\" id=\"DejaVuSans-56\"/>\n      <path d=\"M 12.40625 8.296875 \nL 28.515625 8.296875 \nL 28.515625 63.921875 \nL 10.984375 60.40625 \nL 10.984375 69.390625 \nL 28.421875 72.90625 \nL 38.28125 72.90625 \nL 38.28125 8.296875 \nL 54.390625 8.296875 \nL 54.390625 0 \nL 12.40625 0 \nz\n\" id=\"DejaVuSans-49\"/>\n      <path d=\"M 72.703125 32.078125 \nQ 68.453125 32.078125 66.03125 28.46875 \nQ 63.625 24.859375 63.625 18.40625 \nQ 63.625 12.0625 66.03125 8.421875 \nQ 68.453125 4.78125 72.703125 4.78125 \nQ 76.859375 4.78125 79.265625 8.421875 \nQ 81.6875 12.0625 81.6875 18.40625 \nQ 81.6875 24.8125 79.265625 28.4375 \nQ 76.859375 32.078125 72.703125 32.078125 \nz\nM 72.703125 38.28125 \nQ 80.421875 38.28125 84.953125 32.90625 \nQ 89.5 27.546875 89.5 18.40625 \nQ 89.5 9.28125 84.9375 3.921875 \nQ 80.375 -1.421875 72.703125 -1.421875 \nQ 64.890625 -1.421875 60.34375 3.921875 \nQ 55.8125 9.28125 55.8125 18.40625 \nQ 55.8125 27.59375 60.375 32.9375 \nQ 64.9375 38.28125 72.703125 38.28125 \nz\nM 22.3125 68.015625 \nQ 18.109375 68.015625 15.6875 64.375 \nQ 13.28125 60.75 13.28125 54.390625 \nQ 13.28125 47.953125 15.671875 44.328125 \nQ 18.0625 40.71875 22.3125 40.71875 \nQ 26.5625 40.71875 28.96875 44.328125 \nQ 31.390625 47.953125 31.390625 54.390625 \nQ 31.390625 60.6875 28.953125 64.34375 \nQ 26.515625 68.015625 22.3125 68.015625 \nz\nM 66.40625 74.21875 \nL 74.21875 74.21875 \nL 28.609375 -1.421875 \nL 20.796875 -1.421875 \nz\nM 22.3125 74.21875 \nQ 30.03125 74.21875 34.609375 68.875 \nQ 39.203125 63.53125 39.203125 54.390625 \nQ 39.203125 45.171875 34.640625 39.84375 \nQ 30.078125 34.515625 22.3125 34.515625 \nQ 14.546875 34.515625 10.03125 39.859375 \nQ 5.515625 45.21875 5.515625 54.390625 \nQ 5.515625 63.484375 10.046875 68.84375 \nQ 14.59375 74.21875 22.3125 74.21875 \nz\n\" id=\"DejaVuSans-37\"/>\n     </defs>\n     <use xlink:href=\"#DejaVuSans-56\"/>\n     <use x=\"63.623047\" xlink:href=\"#DejaVuSans-49\"/>\n     <use x=\"127.246094\" xlink:href=\"#DejaVuSans-37\"/>\n    </g>\n   </g>\n   <g id=\"text_2\">\n    <!-- 19% -->\n    <g transform=\"translate(58.33059 128.50887)scale(0.1 -0.1)\">\n     <defs>\n      <path d=\"M 10.984375 1.515625 \nL 10.984375 10.5 \nQ 14.703125 8.734375 18.5 7.8125 \nQ 22.3125 6.890625 25.984375 6.890625 \nQ 35.75 6.890625 40.890625 13.453125 \nQ 46.046875 20.015625 46.78125 33.40625 \nQ 43.953125 29.203125 39.59375 26.953125 \nQ 35.25 24.703125 29.984375 24.703125 \nQ 19.046875 24.703125 12.671875 31.3125 \nQ 6.296875 37.9375 6.296875 49.421875 \nQ 6.296875 60.640625 12.9375 67.421875 \nQ 19.578125 74.21875 30.609375 74.21875 \nQ 43.265625 74.21875 49.921875 64.515625 \nQ 56.59375 54.828125 56.59375 36.375 \nQ 56.59375 19.140625 48.40625 8.859375 \nQ 40.234375 -1.421875 26.421875 -1.421875 \nQ 22.703125 -1.421875 18.890625 -0.6875 \nQ 15.09375 0.046875 10.984375 1.515625 \nz\nM 30.609375 32.421875 \nQ 37.25 32.421875 41.125 36.953125 \nQ 45.015625 41.5 45.015625 49.421875 \nQ 45.015625 57.28125 41.125 61.84375 \nQ 37.25 66.40625 30.609375 66.40625 \nQ 23.96875 66.40625 20.09375 61.84375 \nQ 16.21875 57.28125 16.21875 49.421875 \nQ 16.21875 41.5 20.09375 36.953125 \nQ 23.96875 32.421875 30.609375 32.421875 \nz\n\" id=\"DejaVuSans-57\"/>\n     </defs>\n     <use xlink:href=\"#DejaVuSans-49\"/>\n     <use x=\"63.623047\" xlink:href=\"#DejaVuSans-57\"/>\n     <use x=\"127.246094\" xlink:href=\"#DejaVuSans-37\"/>\n    </g>\n   </g>\n   <g id=\"text_3\">\n    <!-- n = 10 -->\n    <g transform=\"translate(36.156232 90.244706)scale(0.12 -0.12)\">\n     <defs>\n      <path d=\"M 54.890625 33.015625 \nL 54.890625 0 \nL 45.90625 0 \nL 45.90625 32.71875 \nQ 45.90625 40.484375 42.875 44.328125 \nQ 39.84375 48.1875 33.796875 48.1875 \nQ 26.515625 48.1875 22.3125 43.546875 \nQ 18.109375 38.921875 18.109375 30.90625 \nL 18.109375 0 \nL 9.078125 0 \nL 9.078125 54.6875 \nL 18.109375 54.6875 \nL 18.109375 46.1875 \nQ 21.34375 51.125 25.703125 53.5625 \nQ 30.078125 56 35.796875 56 \nQ 45.21875 56 50.046875 50.171875 \nQ 54.890625 44.34375 54.890625 33.015625 \nz\n\" id=\"DejaVuSans-110\"/>\n      <path id=\"DejaVuSans-32\"/>\n      <path d=\"M 10.59375 45.40625 \nL 73.1875 45.40625 \nL 73.1875 37.203125 \nL 10.59375 37.203125 \nz\nM 10.59375 25.484375 \nL 73.1875 25.484375 \nL 73.1875 17.1875 \nL 10.59375 17.1875 \nz\n\" id=\"DejaVuSans-61\"/>\n      <path d=\"M 31.78125 66.40625 \nQ 24.171875 66.40625 20.328125 58.90625 \nQ 16.5 51.421875 16.5 36.375 \nQ 16.5 21.390625 20.328125 13.890625 \nQ 24.171875 6.390625 31.78125 6.390625 \nQ 39.453125 6.390625 43.28125 13.890625 \nQ 47.125 21.390625 47.125 36.375 \nQ 47.125 51.421875 43.28125 58.90625 \nQ 39.453125 66.40625 31.78125 66.40625 \nz\nM 31.78125 74.21875 \nQ 44.046875 74.21875 50.515625 64.515625 \nQ 56.984375 54.828125 56.984375 36.375 \nQ 56.984375 17.96875 50.515625 8.265625 \nQ 44.046875 -1.421875 31.78125 -1.421875 \nQ 19.53125 -1.421875 13.0625 8.265625 \nQ 6.59375 17.96875 6.59375 36.375 \nQ 6.59375 54.828125 13.0625 64.515625 \nQ 19.53125 74.21875 31.78125 74.21875 \nz\n\" id=\"DejaVuSans-48\"/>\n     </defs>\n     <use xlink:href=\"#DejaVuSans-110\"/>\n     <use x=\"63.378906\" xlink:href=\"#DejaVuSans-32\"/>\n     <use x=\"95.166016\" xlink:href=\"#DejaVuSans-61\"/>\n     <use x=\"178.955078\" xlink:href=\"#DejaVuSans-32\"/>\n     <use x=\"210.742188\" xlink:href=\"#DejaVuSans-49\"/>\n     <use x=\"274.365234\" xlink:href=\"#DejaVuSans-48\"/>\n    </g>\n   </g>\n  </g>\n  <g id=\"axes_2\">\n   <g id=\"patch_6\">\n    <path d=\"M 173.812235 106.879529 \nC 165.53506 106.879529 157.464784 109.488619 150.754142 114.334124 \nC 144.0435 119.179629 139.027975 126.019309 136.423971 133.876204 \nC 133.819967 141.733098 133.757665 150.214421 136.245963 158.108723 \nC 138.734262 166.003024 143.648764 172.915649 150.287497 177.859216 \nL 173.812235 146.267765 \nL 173.812235 106.879529 \nz\n\" style=\"fill:#002b40;opacity:0.5;stroke:#002b40;stroke-linejoin:miter;\"/>\n   </g>\n   <g id=\"patch_7\">\n    <path d=\"M 150.287497 177.859216 \nC 155.288398 181.583163 161.102806 184.066975 167.250811 185.105643 \nC 173.398816 186.144311 179.706484 185.708451 185.653195 183.834036 \nC 191.599905 181.959622 197.017419 178.699683 201.458586 174.323288 \nC 205.899753 169.946893 209.238927 164.577855 211.200501 158.659322 \nC 213.162074 152.74079 213.690552 146.440205 212.742315 140.277605 \nC 211.794077 134.115005 209.395951 128.264736 205.745873 123.209667 \nC 202.095794 118.154598 197.297028 114.037742 191.745655 111.198896 \nC 186.194281 108.36005 180.047354 106.879528 173.812228 106.879529 \nL 173.812235 146.267765 \nL 150.287497 177.859216 \nz\n\" style=\"fill:#4c180e;opacity:0.5;stroke:#4c180e;stroke-linejoin:miter;\"/>\n   </g>\n   <g id=\"patch_8\">\n    <path d=\"M 174.6 106.091765 \nC 166.322825 106.091765 158.252548 108.700855 151.541906 113.546359 \nC 144.831265 118.391864 139.81574 125.231544 137.211736 133.088439 \nC 134.607732 140.945334 134.54543 149.426656 137.033728 157.320958 \nC 139.522026 165.21526 144.436529 172.127884 151.075262 177.071451 \nL 174.6 145.48 \nL 174.6 106.091765 \nz\n\" style=\"fill:#008fd5;stroke:#000000;stroke-linejoin:miter;\"/>\n   </g>\n   <g id=\"patch_9\">\n    <path d=\"M 151.075262 177.071451 \nC 156.076163 180.795398 161.890571 183.27921 168.038576 184.317878 \nC 174.18658 185.356546 180.494249 184.920686 186.44096 183.046272 \nC 192.38767 181.171857 197.805184 177.911918 202.246351 173.535523 \nC 206.687517 169.159128 210.026692 163.79009 211.988265 157.871558 \nC 213.949839 151.953025 214.478317 145.65244 213.530079 139.48984 \nC 212.581842 133.32724 210.183716 127.476971 206.533637 122.421902 \nC 202.883559 117.366833 198.084793 113.249977 192.533419 110.411131 \nC 186.982046 107.572285 180.835118 106.091764 174.599993 106.091765 \nL 174.6 145.48 \nL 151.075262 177.071451 \nz\n\" style=\"fill:#fc4f30;stroke:#000000;stroke-linejoin:miter;\"/>\n   </g>\n   <g id=\"matplotlib.axis_3\"/>\n   <g id=\"matplotlib.axis_4\"/>\n   <g id=\"text_4\">\n    <!-- 40% -->\n    <g transform=\"translate(141.05376 140.804438)scale(0.1 -0.1)\">\n     <defs>\n      <path d=\"M 37.796875 64.3125 \nL 12.890625 25.390625 \nL 37.796875 25.390625 \nz\nM 35.203125 72.90625 \nL 47.609375 72.90625 \nL 47.609375 25.390625 \nL 58.015625 25.390625 \nL 58.015625 17.1875 \nL 47.609375 17.1875 \nL 47.609375 0 \nL 37.796875 0 \nL 37.796875 17.1875 \nL 4.890625 17.1875 \nL 4.890625 26.703125 \nz\n\" id=\"DejaVuSans-52\"/>\n     </defs>\n     <use xlink:href=\"#DejaVuSans-52\"/>\n     <use x=\"63.623047\" xlink:href=\"#DejaVuSans-48\"/>\n     <use x=\"127.246094\" xlink:href=\"#DejaVuSans-37\"/>\n    </g>\n   </g>\n   <g id=\"text_5\">\n    <!-- 60% -->\n    <g transform=\"translate(185.919678 155.67431)scale(0.1 -0.1)\">\n     <defs>\n      <path d=\"M 33.015625 40.375 \nQ 26.375 40.375 22.484375 35.828125 \nQ 18.609375 31.296875 18.609375 23.390625 \nQ 18.609375 15.53125 22.484375 10.953125 \nQ 26.375 6.390625 33.015625 6.390625 \nQ 39.65625 6.390625 43.53125 10.953125 \nQ 47.40625 15.53125 47.40625 23.390625 \nQ 47.40625 31.296875 43.53125 35.828125 \nQ 39.65625 40.375 33.015625 40.375 \nz\nM 52.59375 71.296875 \nL 52.59375 62.3125 \nQ 48.875 64.0625 45.09375 64.984375 \nQ 41.3125 65.921875 37.59375 65.921875 \nQ 27.828125 65.921875 22.671875 59.328125 \nQ 17.53125 52.734375 16.796875 39.40625 \nQ 19.671875 43.65625 24.015625 45.921875 \nQ 28.375 48.1875 33.59375 48.1875 \nQ 44.578125 48.1875 50.953125 41.515625 \nQ 57.328125 34.859375 57.328125 23.390625 \nQ 57.328125 12.15625 50.6875 5.359375 \nQ 44.046875 -1.421875 33.015625 -1.421875 \nQ 20.359375 -1.421875 13.671875 8.265625 \nQ 6.984375 17.96875 6.984375 36.375 \nQ 6.984375 53.65625 15.1875 63.9375 \nQ 23.390625 74.21875 37.203125 74.21875 \nQ 40.921875 74.21875 44.703125 73.484375 \nQ 48.484375 72.75 52.59375 71.296875 \nz\n\" id=\"DejaVuSans-54\"/>\n     </defs>\n     <use xlink:href=\"#DejaVuSans-54\"/>\n     <use x=\"63.623047\" xlink:href=\"#DejaVuSans-48\"/>\n     <use x=\"127.246094\" xlink:href=\"#DejaVuSans-37\"/>\n    </g>\n   </g>\n   <g id=\"text_6\">\n    <!-- n = 100 -->\n    <g transform=\"translate(150.503437 90.244706)scale(0.12 -0.12)\">\n     <use xlink:href=\"#DejaVuSans-110\"/>\n     <use x=\"63.378906\" xlink:href=\"#DejaVuSans-32\"/>\n     <use x=\"95.166016\" xlink:href=\"#DejaVuSans-61\"/>\n     <use x=\"178.955078\" xlink:href=\"#DejaVuSans-32\"/>\n     <use x=\"210.742188\" xlink:href=\"#DejaVuSans-49\"/>\n     <use x=\"274.365234\" xlink:href=\"#DejaVuSans-48\"/>\n     <use x=\"337.988281\" xlink:href=\"#DejaVuSans-48\"/>\n    </g>\n   </g>\n  </g>\n  <g id=\"axes_3\">\n   <g id=\"patch_10\">\n    <path d=\"M 291.976941 106.879529 \nC 291.559872 106.879529 291.142829 106.886154 290.725971 106.8994 \nC 290.309112 106.912646 289.89249 106.932512 289.476262 106.958991 \nL 291.976941 146.267765 \nL 291.976941 106.879529 \nz\n\" style=\"fill:#002b40;opacity:0.5;stroke:#002b40;stroke-linejoin:miter;\"/>\n   </g>\n   <g id=\"patch_11\">\n    <path d=\"M 289.476262 106.958991 \nC 284.366802 107.284036 279.369392 108.602196 274.764336 110.839537 \nC 270.15928 113.076878 266.034317 116.190771 262.620815 120.006559 \nC 259.207313 123.822347 256.570309 128.267329 254.857712 133.092186 \nC 253.145114 137.917043 252.389554 143.029849 252.63341 148.143827 \nC 252.877265 153.257805 254.115891 158.275519 256.279812 162.915528 \nC 258.443733 167.555537 261.49172 171.729435 265.252814 175.203108 \nC 269.013908 178.676782 273.416448 181.384049 278.213497 183.173058 \nC 283.010546 184.962068 288.110707 185.798734 293.227913 185.63613 \nC 298.345119 185.473525 303.381872 184.314747 308.055663 182.224791 \nC 312.729454 180.134836 316.951234 177.153522 320.484203 173.448072 \nC 324.017172 169.742621 326.794019 165.383633 328.658989 160.615602 \nC 330.52396 155.847571 331.441521 150.761341 331.360209 145.642198 \nC 331.278896 140.523056 330.200258 135.468534 328.184795 130.76214 \nC 326.169332 126.055745 323.255445 121.787149 319.606572 118.195776 \nC 315.9577 114.604402 311.643363 111.758677 306.905553 109.818216 \nC 302.167743 107.877755 297.096727 106.879529 291.976938 106.879529 \nL 291.976941 146.267765 \nL 289.476262 106.958991 \nz\n\" style=\"fill:#4c180e;opacity:0.5;stroke:#4c180e;stroke-linejoin:miter;\"/>\n   </g>\n   <g id=\"patch_12\">\n    <path d=\"M 292.764706 106.091765 \nC 292.347637 106.091765 291.930594 106.098389 291.513735 106.111635 \nC 291.096877 106.124881 290.680255 106.144747 290.264027 106.171226 \nL 292.764706 145.48 \nL 292.764706 106.091765 \nz\n\" style=\"fill:#008fd5;stroke:#000000;stroke-linejoin:miter;\"/>\n   </g>\n   <g id=\"patch_13\">\n    <path d=\"M 290.264027 106.171226 \nC 285.154567 106.496271 280.157157 107.814432 275.552101 110.051772 \nC 270.947045 112.289113 266.822081 115.403006 263.408579 119.218794 \nC 259.995077 123.034583 257.358073 127.479564 255.645476 132.304421 \nC 253.932879 137.129279 253.177319 142.242084 253.421174 147.356062 \nC 253.66503 152.47004 254.903655 157.487755 257.067576 162.127763 \nC 259.231497 166.767772 262.279485 170.94167 266.040579 174.415344 \nC 269.801673 177.889017 274.204213 180.596284 279.001262 182.385294 \nC 283.798311 184.174303 288.898472 185.01097 294.015678 184.848365 \nC 299.132884 184.68576 304.169637 183.526982 308.843428 181.437027 \nC 313.517219 179.347071 317.738998 176.365758 321.271968 172.660307 \nC 324.804937 168.954857 327.581783 164.595869 329.446754 159.827837 \nC 331.311724 155.059806 332.229286 149.973577 332.147973 144.854434 \nC 332.06666 139.735291 330.988022 134.680769 328.97256 129.974375 \nC 326.957097 125.267981 324.043209 120.999385 320.394337 117.408011 \nC 316.745464 113.816637 312.431128 110.970912 307.693318 109.030451 \nC 302.955507 107.08999 297.884492 106.091764 292.764703 106.091765 \nL 292.764706 145.48 \nL 290.264027 106.171226 \nz\n\" style=\"fill:#fc4f30;stroke:#000000;stroke-linejoin:miter;\"/>\n   </g>\n   <g id=\"matplotlib.axis_5\"/>\n   <g id=\"matplotlib.axis_6\"/>\n   <g id=\"text_7\">\n    <!-- 1% -->\n    <g transform=\"translate(284.082092 124.618356)scale(0.1 -0.1)\">\n     <use xlink:href=\"#DejaVuSans-49\"/>\n     <use x=\"63.623047\" xlink:href=\"#DejaVuSans-37\"/>\n    </g>\n   </g>\n   <g id=\"text_8\">\n    <!-- 99% -->\n    <g transform=\"translate(282.402008 171.860394)scale(0.1 -0.1)\">\n     <use xlink:href=\"#DejaVuSans-57\"/>\n     <use x=\"63.623047\" xlink:href=\"#DejaVuSans-57\"/>\n     <use x=\"127.246094\" xlink:href=\"#DejaVuSans-37\"/>\n    </g>\n   </g>\n   <g id=\"text_9\">\n    <!-- n = 1000 -->\n    <g transform=\"translate(264.850643 90.244706)scale(0.12 -0.12)\">\n     <use xlink:href=\"#DejaVuSans-110\"/>\n     <use x=\"63.378906\" xlink:href=\"#DejaVuSans-32\"/>\n     <use x=\"95.166016\" xlink:href=\"#DejaVuSans-61\"/>\n     <use x=\"178.955078\" xlink:href=\"#DejaVuSans-32\"/>\n     <use x=\"210.742188\" xlink:href=\"#DejaVuSans-49\"/>\n     <use x=\"274.365234\" xlink:href=\"#DejaVuSans-48\"/>\n     <use x=\"337.988281\" xlink:href=\"#DejaVuSans-48\"/>\n     <use x=\"401.611328\" xlink:href=\"#DejaVuSans-48\"/>\n    </g>\n   </g>\n  </g>\n  <g id=\"legend_1\">\n   <g id=\"patch_14\">\n    <path d=\"M 224.8875 37.35625 \nL 380.4 37.35625 \nQ 382.4 37.35625 382.4 35.35625 \nL 382.4 7 \nQ 382.4 5 380.4 5 \nL 224.8875 5 \nQ 222.8875 5 222.8875 7 \nL 222.8875 35.35625 \nQ 222.8875 37.35625 224.8875 37.35625 \nz\n\" style=\"fill:#ffffff;opacity:0.8;stroke:#cccccc;stroke-linejoin:miter;\"/>\n   </g>\n   <g id=\"patch_15\">\n    <path d=\"M 226.8875 16.598438 \nL 246.8875 16.598438 \nL 246.8875 9.598438 \nL 226.8875 9.598438 \nz\n\" style=\"fill:#008fd5;stroke:#000000;stroke-linejoin:miter;\"/>\n   </g>\n   <g id=\"text_10\">\n    <!-- Count of ItemCode &gt;= n -->\n    <g transform=\"translate(254.8875 16.598438)scale(0.1 -0.1)\">\n     <defs>\n      <path d=\"M 64.40625 67.28125 \nL 64.40625 56.890625 \nQ 59.421875 61.53125 53.78125 63.8125 \nQ 48.140625 66.109375 41.796875 66.109375 \nQ 29.296875 66.109375 22.65625 58.46875 \nQ 16.015625 50.828125 16.015625 36.375 \nQ 16.015625 21.96875 22.65625 14.328125 \nQ 29.296875 6.6875 41.796875 6.6875 \nQ 48.140625 6.6875 53.78125 8.984375 \nQ 59.421875 11.28125 64.40625 15.921875 \nL 64.40625 5.609375 \nQ 59.234375 2.09375 53.4375 0.328125 \nQ 47.65625 -1.421875 41.21875 -1.421875 \nQ 24.65625 -1.421875 15.125 8.703125 \nQ 5.609375 18.84375 5.609375 36.375 \nQ 5.609375 53.953125 15.125 64.078125 \nQ 24.65625 74.21875 41.21875 74.21875 \nQ 47.75 74.21875 53.53125 72.484375 \nQ 59.328125 70.75 64.40625 67.28125 \nz\n\" id=\"DejaVuSans-67\"/>\n      <path d=\"M 30.609375 48.390625 \nQ 23.390625 48.390625 19.1875 42.75 \nQ 14.984375 37.109375 14.984375 27.296875 \nQ 14.984375 17.484375 19.15625 11.84375 \nQ 23.34375 6.203125 30.609375 6.203125 \nQ 37.796875 6.203125 41.984375 11.859375 \nQ 46.1875 17.53125 46.1875 27.296875 \nQ 46.1875 37.015625 41.984375 42.703125 \nQ 37.796875 48.390625 30.609375 48.390625 \nz\nM 30.609375 56 \nQ 42.328125 56 49.015625 48.375 \nQ 55.71875 40.765625 55.71875 27.296875 \nQ 55.71875 13.875 49.015625 6.21875 \nQ 42.328125 -1.421875 30.609375 -1.421875 \nQ 18.84375 -1.421875 12.171875 6.21875 \nQ 5.515625 13.875 5.515625 27.296875 \nQ 5.515625 40.765625 12.171875 48.375 \nQ 18.84375 56 30.609375 56 \nz\n\" id=\"DejaVuSans-111\"/>\n      <path d=\"M 8.5 21.578125 \nL 8.5 54.6875 \nL 17.484375 54.6875 \nL 17.484375 21.921875 \nQ 17.484375 14.15625 20.5 10.265625 \nQ 23.53125 6.390625 29.59375 6.390625 \nQ 36.859375 6.390625 41.078125 11.03125 \nQ 45.3125 15.671875 45.3125 23.6875 \nL 45.3125 54.6875 \nL 54.296875 54.6875 \nL 54.296875 0 \nL 45.3125 0 \nL 45.3125 8.40625 \nQ 42.046875 3.421875 37.71875 1 \nQ 33.40625 -1.421875 27.6875 -1.421875 \nQ 18.265625 -1.421875 13.375 4.4375 \nQ 8.5 10.296875 8.5 21.578125 \nz\nM 31.109375 56 \nz\n\" id=\"DejaVuSans-117\"/>\n      <path d=\"M 18.3125 70.21875 \nL 18.3125 54.6875 \nL 36.8125 54.6875 \nL 36.8125 47.703125 \nL 18.3125 47.703125 \nL 18.3125 18.015625 \nQ 18.3125 11.328125 20.140625 9.421875 \nQ 21.96875 7.515625 27.59375 7.515625 \nL 36.8125 7.515625 \nL 36.8125 0 \nL 27.59375 0 \nQ 17.1875 0 13.234375 3.875 \nQ 9.28125 7.765625 9.28125 18.015625 \nL 9.28125 47.703125 \nL 2.6875 47.703125 \nL 2.6875 54.6875 \nL 9.28125 54.6875 \nL 9.28125 70.21875 \nz\n\" id=\"DejaVuSans-116\"/>\n      <path d=\"M 37.109375 75.984375 \nL 37.109375 68.5 \nL 28.515625 68.5 \nQ 23.6875 68.5 21.796875 66.546875 \nQ 19.921875 64.59375 19.921875 59.515625 \nL 19.921875 54.6875 \nL 34.71875 54.6875 \nL 34.71875 47.703125 \nL 19.921875 47.703125 \nL 19.921875 0 \nL 10.890625 0 \nL 10.890625 47.703125 \nL 2.296875 47.703125 \nL 2.296875 54.6875 \nL 10.890625 54.6875 \nL 10.890625 58.5 \nQ 10.890625 67.625 15.140625 71.796875 \nQ 19.390625 75.984375 28.609375 75.984375 \nz\n\" id=\"DejaVuSans-102\"/>\n      <path d=\"M 9.8125 72.90625 \nL 19.671875 72.90625 \nL 19.671875 0 \nL 9.8125 0 \nz\n\" id=\"DejaVuSans-73\"/>\n      <path d=\"M 56.203125 29.59375 \nL 56.203125 25.203125 \nL 14.890625 25.203125 \nQ 15.484375 15.921875 20.484375 11.0625 \nQ 25.484375 6.203125 34.421875 6.203125 \nQ 39.59375 6.203125 44.453125 7.46875 \nQ 49.3125 8.734375 54.109375 11.28125 \nL 54.109375 2.78125 \nQ 49.265625 0.734375 44.1875 -0.34375 \nQ 39.109375 -1.421875 33.890625 -1.421875 \nQ 20.796875 -1.421875 13.15625 6.1875 \nQ 5.515625 13.8125 5.515625 26.8125 \nQ 5.515625 40.234375 12.765625 48.109375 \nQ 20.015625 56 32.328125 56 \nQ 43.359375 56 49.78125 48.890625 \nQ 56.203125 41.796875 56.203125 29.59375 \nz\nM 47.21875 32.234375 \nQ 47.125 39.59375 43.09375 43.984375 \nQ 39.0625 48.390625 32.421875 48.390625 \nQ 24.90625 48.390625 20.390625 44.140625 \nQ 15.875 39.890625 15.1875 32.171875 \nz\n\" id=\"DejaVuSans-101\"/>\n      <path d=\"M 52 44.1875 \nQ 55.375 50.25 60.0625 53.125 \nQ 64.75 56 71.09375 56 \nQ 79.640625 56 84.28125 50.015625 \nQ 88.921875 44.046875 88.921875 33.015625 \nL 88.921875 0 \nL 79.890625 0 \nL 79.890625 32.71875 \nQ 79.890625 40.578125 77.09375 44.375 \nQ 74.3125 48.1875 68.609375 48.1875 \nQ 61.625 48.1875 57.5625 43.546875 \nQ 53.515625 38.921875 53.515625 30.90625 \nL 53.515625 0 \nL 44.484375 0 \nL 44.484375 32.71875 \nQ 44.484375 40.625 41.703125 44.40625 \nQ 38.921875 48.1875 33.109375 48.1875 \nQ 26.21875 48.1875 22.15625 43.53125 \nQ 18.109375 38.875 18.109375 30.90625 \nL 18.109375 0 \nL 9.078125 0 \nL 9.078125 54.6875 \nL 18.109375 54.6875 \nL 18.109375 46.1875 \nQ 21.1875 51.21875 25.484375 53.609375 \nQ 29.78125 56 35.6875 56 \nQ 41.65625 56 45.828125 52.96875 \nQ 50 49.953125 52 44.1875 \nz\n\" id=\"DejaVuSans-109\"/>\n      <path d=\"M 45.40625 46.390625 \nL 45.40625 75.984375 \nL 54.390625 75.984375 \nL 54.390625 0 \nL 45.40625 0 \nL 45.40625 8.203125 \nQ 42.578125 3.328125 38.25 0.953125 \nQ 33.9375 -1.421875 27.875 -1.421875 \nQ 17.96875 -1.421875 11.734375 6.484375 \nQ 5.515625 14.40625 5.515625 27.296875 \nQ 5.515625 40.1875 11.734375 48.09375 \nQ 17.96875 56 27.875 56 \nQ 33.9375 56 38.25 53.625 \nQ 42.578125 51.265625 45.40625 46.390625 \nz\nM 14.796875 27.296875 \nQ 14.796875 17.390625 18.875 11.75 \nQ 22.953125 6.109375 30.078125 6.109375 \nQ 37.203125 6.109375 41.296875 11.75 \nQ 45.40625 17.390625 45.40625 27.296875 \nQ 45.40625 37.203125 41.296875 42.84375 \nQ 37.203125 48.484375 30.078125 48.484375 \nQ 22.953125 48.484375 18.875 42.84375 \nQ 14.796875 37.203125 14.796875 27.296875 \nz\n\" id=\"DejaVuSans-100\"/>\n      <path d=\"M 10.59375 49.21875 \nL 10.59375 58.109375 \nL 73.1875 35.40625 \nL 73.1875 27.296875 \nL 10.59375 4.59375 \nL 10.59375 13.484375 \nL 60.890625 31.296875 \nz\n\" id=\"DejaVuSans-62\"/>\n     </defs>\n     <use xlink:href=\"#DejaVuSans-67\"/>\n     <use x=\"69.824219\" xlink:href=\"#DejaVuSans-111\"/>\n     <use x=\"131.005859\" xlink:href=\"#DejaVuSans-117\"/>\n     <use x=\"194.384766\" xlink:href=\"#DejaVuSans-110\"/>\n     <use x=\"257.763672\" xlink:href=\"#DejaVuSans-116\"/>\n     <use x=\"296.972656\" xlink:href=\"#DejaVuSans-32\"/>\n     <use x=\"328.759766\" xlink:href=\"#DejaVuSans-111\"/>\n     <use x=\"389.941406\" xlink:href=\"#DejaVuSans-102\"/>\n     <use x=\"425.146484\" xlink:href=\"#DejaVuSans-32\"/>\n     <use x=\"456.933594\" xlink:href=\"#DejaVuSans-73\"/>\n     <use x=\"486.425781\" xlink:href=\"#DejaVuSans-116\"/>\n     <use x=\"525.634766\" xlink:href=\"#DejaVuSans-101\"/>\n     <use x=\"587.158203\" xlink:href=\"#DejaVuSans-109\"/>\n     <use x=\"684.570312\" xlink:href=\"#DejaVuSans-67\"/>\n     <use x=\"754.394531\" xlink:href=\"#DejaVuSans-111\"/>\n     <use x=\"815.576172\" xlink:href=\"#DejaVuSans-100\"/>\n     <use x=\"879.052734\" xlink:href=\"#DejaVuSans-101\"/>\n     <use x=\"940.576172\" xlink:href=\"#DejaVuSans-32\"/>\n     <use x=\"972.363281\" xlink:href=\"#DejaVuSans-62\"/>\n     <use x=\"1056.152344\" xlink:href=\"#DejaVuSans-61\"/>\n     <use x=\"1139.941406\" xlink:href=\"#DejaVuSans-32\"/>\n     <use x=\"1171.728516\" xlink:href=\"#DejaVuSans-110\"/>\n    </g>\n   </g>\n   <g id=\"patch_16\">\n    <path d=\"M 226.8875 31.276563 \nL 246.8875 31.276563 \nL 246.8875 24.276563 \nL 226.8875 24.276563 \nz\n\" style=\"fill:#fc4f30;stroke:#000000;stroke-linejoin:miter;\"/>\n   </g>\n   <g id=\"text_11\">\n    <!-- Count of ItemCode &lt; n -->\n    <g transform=\"translate(254.8875 31.276563)scale(0.1 -0.1)\">\n     <defs>\n      <path d=\"M 73.1875 49.21875 \nL 22.796875 31.296875 \nL 73.1875 13.484375 \nL 73.1875 4.59375 \nL 10.59375 27.296875 \nL 10.59375 35.40625 \nL 73.1875 58.109375 \nz\n\" id=\"DejaVuSans-60\"/>\n     </defs>\n     <use xlink:href=\"#DejaVuSans-67\"/>\n     <use x=\"69.824219\" xlink:href=\"#DejaVuSans-111\"/>\n     <use x=\"131.005859\" xlink:href=\"#DejaVuSans-117\"/>\n     <use x=\"194.384766\" xlink:href=\"#DejaVuSans-110\"/>\n     <use x=\"257.763672\" xlink:href=\"#DejaVuSans-116\"/>\n     <use x=\"296.972656\" xlink:href=\"#DejaVuSans-32\"/>\n     <use x=\"328.759766\" xlink:href=\"#DejaVuSans-111\"/>\n     <use x=\"389.941406\" xlink:href=\"#DejaVuSans-102\"/>\n     <use x=\"425.146484\" xlink:href=\"#DejaVuSans-32\"/>\n     <use x=\"456.933594\" xlink:href=\"#DejaVuSans-73\"/>\n     <use x=\"486.425781\" xlink:href=\"#DejaVuSans-116\"/>\n     <use x=\"525.634766\" xlink:href=\"#DejaVuSans-101\"/>\n     <use x=\"587.158203\" xlink:href=\"#DejaVuSans-109\"/>\n     <use x=\"684.570312\" xlink:href=\"#DejaVuSans-67\"/>\n     <use x=\"754.394531\" xlink:href=\"#DejaVuSans-111\"/>\n     <use x=\"815.576172\" xlink:href=\"#DejaVuSans-100\"/>\n     <use x=\"879.052734\" xlink:href=\"#DejaVuSans-101\"/>\n     <use x=\"940.576172\" xlink:href=\"#DejaVuSans-32\"/>\n     <use x=\"972.363281\" xlink:href=\"#DejaVuSans-60\"/>\n     <use x=\"1056.152344\" xlink:href=\"#DejaVuSans-32\"/>\n     <use x=\"1087.939453\" xlink:href=\"#DejaVuSans-110\"/>\n    </g>\n   </g>\n  </g>\n </g>\n</svg>\n",
      "image/png": "[encoded data removed]"
     },
     "metadata": {}
    }
   ],
   "source": [
    "mt10 = vc[vc>=10].count()\n",
    "lt10 = vc[vc<10].count()\n",
    "mt100 = vc[vc>=100].count()\n",
    "lt100 = vc[vc<100].count()\n",
    "mt1000 = vc[vc>=1000].count()\n",
    "lt1000 = vc[vc<1000].count()\n",
    "\n",
    "fig, ax = plt.subplots(nrows=1, ncols=3)\n",
    "labels = 'Count of ItemCode >= n', 'Count of ItemCode < n'\n",
    "colors = ['#008fd5', '#fc4f30']\n",
    "\n",
    "ax[0].pie([mt10, lt10], startangle=90, colors=colors, wedgeprops={'edgecolor': 'black'}, autopct='%1.f%%', shadow=True)\n",
    "ax[0].set_title('n = 10')\n",
    "ax[1].pie([mt100, lt100], startangle=90, colors=colors, wedgeprops={'edgecolor': 'black'}, autopct='%1.f%%', shadow=True)\n",
    "ax[1].set_title('n = 100')\n",
    "ax[2].pie([mt1000, lt1000], startangle=90, colors=colors, wedgeprops={'edgecolor': 'black'}, autopct='%1.f%%', shadow=True)\n",
    "ax[2].set_title('n = 1000')\n",
    "\n",
    "fig.legend(labels=labels, fontsize='medium')\n"
   ]
  },
  {
   "source": [
    "上圖中, 我將臨界值分別設定 10, 100, 1000, \n",
    "也就是同一種商品被購買次數 > 100 佔了 3956 的 40%\n",
    "可看出 ItemCode 是長尾資料 "
   ],
   "cell_type": "markdown",
   "metadata": {}
  },
  {
   "cell_type": "code",
   "execution_count": 73,
   "metadata": {},
   "outputs": [
    {
     "output_type": "execute_result",
     "data": {
      "text/plain": [
       "85123A    2312\n",
       "22423     2200\n",
       "85099B    2159\n",
       "47566     1727\n",
       "20725     1639\n",
       "          ... \n",
       "90037A       1\n",
       "84963A       1\n",
       "21134        1\n",
       "85098B       1\n",
       "90187A       1\n",
       "Name: ItemCode, Length: 3956, dtype: int64"
      ]
     },
     "metadata": {},
     "execution_count": 73
    }
   ],
   "source": [
    "vc"
   ]
  },
  {
   "source": [
    "接着觀察 DescriptionCode, 直覺上覺得 DescriptionCode 應該會跟着 ItemCode, 也就是同一種商品只會有同一種敘述"
   ],
   "cell_type": "markdown",
   "metadata": {}
  },
  {
   "cell_type": "code",
   "execution_count": 74,
   "metadata": {},
   "outputs": [
    {
     "output_type": "execute_result",
     "data": {
      "text/plain": [
       "array(['1546686', '8753662', '9065634'], dtype=object)"
      ]
     },
     "metadata": {},
     "execution_count": 74
    }
   ],
   "source": [
    "vc = df['ItemCode'].value_counts()\n",
    "vc\n",
    "df[df['ItemCode'] == '85123A']['DescriptionCode'].unique()"
   ]
  },
  {
   "source": [
    "但在上一個cell發現不然, 商品 '85123A' 居然有4種不同的DescriptionCode， 所以我們繼續觀察"
   ],
   "cell_type": "markdown",
   "metadata": {}
  },
  {
   "cell_type": "code",
   "execution_count": 221,
   "metadata": {},
   "outputs": [
    {
     "output_type": "execute_result",
     "data": {
      "text/plain": [
       "       InvoiceNo ItemCode DescriptionCode  Quantity         SellDate  \\\n",
       "0         536365   85123A         1546686         6   12/1/2018 8:26   \n",
       "49        536373   85123A         1546686         6   12/1/2018 9:02   \n",
       "66        536375   85123A         1546686         6   12/1/2018 9:32   \n",
       "220       536390   85123A         1546686        64  12/1/2018 10:19   \n",
       "262       536394   85123A         1546686        32  12/1/2018 10:39   \n",
       "...          ...      ...             ...       ...              ...   \n",
       "539342    581439   85123A         9065634         1  12/8/2011 16:30   \n",
       "539979    581452   85123A         1546686        32  12/8/2011 18:03   \n",
       "540217    581472   85123A         1546686         6  12/8/2011 19:55   \n",
       "540837    581492   85123A         9065634         3  12/9/2011 10:03   \n",
       "541639    581538   85123A         9065634         1  12/9/2011 11:34   \n",
       "\n",
       "        NewTaiwanDollors  CustomerID             District  IsCanceled  \\\n",
       "0                  255.0     17850.0  Zhongzheng District         0.0   \n",
       "49                 255.0     17850.0  Zhongzheng District         0.0   \n",
       "66                 255.0     17850.0  Zhongzheng District         0.0   \n",
       "220                255.0     17511.0  Zhongzheng District         0.0   \n",
       "262                255.0     13408.0  Zhongzheng District         0.0   \n",
       "...                  ...         ...                  ...         ...   \n",
       "539342             579.0         NaN  Zhongzheng District         0.0   \n",
       "539979             255.0     17675.0  Zhongzheng District         0.0   \n",
       "540217             295.0     15796.0  Zhongzheng District         0.0   \n",
       "540837             579.0         NaN  Zhongzheng District         0.0   \n",
       "541639             295.0     14446.0  Zhongzheng District         0.0   \n",
       "\n",
       "       InvoiceNo_num  \n",
       "0             536365  \n",
       "49            536373  \n",
       "66            536375  \n",
       "220           536390  \n",
       "262           536394  \n",
       "...              ...  \n",
       "539342        581439  \n",
       "539979        581452  \n",
       "540217        581472  \n",
       "540837        581492  \n",
       "541639        581538  \n",
       "\n",
       "[2426 rows x 10 columns]"
      ],
      "text/html": "<div>\n<style scoped>\n    .dataframe tbody tr th:only-of-type {\n        vertical-align: middle;\n    }\n\n    .dataframe tbody tr th {\n        vertical-align: top;\n    }\n\n    .dataframe thead th {\n        text-align: right;\n    }\n</style>\n<table border=\"1\" class=\"dataframe\">\n  <thead>\n    <tr style=\"text-align: right;\">\n      <th></th>\n      <th>InvoiceNo</th>\n      <th>ItemCode</th>\n      <th>DescriptionCode</th>\n      <th>Quantity</th>\n      <th>SellDate</th>\n      <th>NewTaiwanDollors</th>\n      <th>CustomerID</th>\n      <th>District</th>\n      <th>IsCanceled</th>\n      <th>InvoiceNo_num</th>\n    </tr>\n  </thead>\n  <tbody>\n    <tr>\n      <th>0</th>\n      <td>536365</td>\n      <td>85123A</td>\n      <td>1546686</td>\n      <td>6</td>\n      <td>12/1/2018 8:26</td>\n      <td>255.0</td>\n      <td>17850.0</td>\n      <td>Zhongzheng District</td>\n      <td>0.0</td>\n      <td>536365</td>\n    </tr>\n    <tr>\n      <th>49</th>\n      <td>536373</td>\n      <td>85123A</td>\n      <td>1546686</td>\n      <td>6</td>\n      <td>12/1/2018 9:02</td>\n      <td>255.0</td>\n      <td>17850.0</td>\n      <td>Zhongzheng District</td>\n      <td>0.0</td>\n      <td>536373</td>\n    </tr>\n    <tr>\n      <th>66</th>\n      <td>536375</td>\n      <td>85123A</td>\n      <td>1546686</td>\n      <td>6</td>\n      <td>12/1/2018 9:32</td>\n      <td>255.0</td>\n      <td>17850.0</td>\n      <td>Zhongzheng District</td>\n      <td>0.0</td>\n      <td>536375</td>\n    </tr>\n    <tr>\n      <th>220</th>\n      <td>536390</td>\n      <td>85123A</td>\n      <td>1546686</td>\n      <td>64</td>\n      <td>12/1/2018 10:19</td>\n      <td>255.0</td>\n      <td>17511.0</td>\n      <td>Zhongzheng District</td>\n      <td>0.0</td>\n      <td>536390</td>\n    </tr>\n    <tr>\n      <th>262</th>\n      <td>536394</td>\n      <td>85123A</td>\n      <td>1546686</td>\n      <td>32</td>\n      <td>12/1/2018 10:39</td>\n      <td>255.0</td>\n      <td>13408.0</td>\n      <td>Zhongzheng District</td>\n      <td>0.0</td>\n      <td>536394</td>\n    </tr>\n    <tr>\n      <th>...</th>\n      <td>...</td>\n      <td>...</td>\n      <td>...</td>\n      <td>...</td>\n      <td>...</td>\n      <td>...</td>\n      <td>...</td>\n      <td>...</td>\n      <td>...</td>\n      <td>...</td>\n    </tr>\n    <tr>\n      <th>539342</th>\n      <td>581439</td>\n      <td>85123A</td>\n      <td>9065634</td>\n      <td>1</td>\n      <td>12/8/2011 16:30</td>\n      <td>579.0</td>\n      <td>NaN</td>\n      <td>Zhongzheng District</td>\n      <td>0.0</td>\n      <td>581439</td>\n    </tr>\n    <tr>\n      <th>539979</th>\n      <td>581452</td>\n      <td>85123A</td>\n      <td>1546686</td>\n      <td>32</td>\n      <td>12/8/2011 18:03</td>\n      <td>255.0</td>\n      <td>17675.0</td>\n      <td>Zhongzheng District</td>\n      <td>0.0</td>\n      <td>581452</td>\n    </tr>\n    <tr>\n      <th>540217</th>\n      <td>581472</td>\n      <td>85123A</td>\n      <td>1546686</td>\n      <td>6</td>\n      <td>12/8/2011 19:55</td>\n      <td>295.0</td>\n      <td>15796.0</td>\n      <td>Zhongzheng District</td>\n      <td>0.0</td>\n      <td>581472</td>\n    </tr>\n    <tr>\n      <th>540837</th>\n      <td>581492</td>\n      <td>85123A</td>\n      <td>9065634</td>\n      <td>3</td>\n      <td>12/9/2011 10:03</td>\n      <td>579.0</td>\n      <td>NaN</td>\n      <td>Zhongzheng District</td>\n      <td>0.0</td>\n      <td>581492</td>\n    </tr>\n    <tr>\n      <th>541639</th>\n      <td>581538</td>\n      <td>85123A</td>\n      <td>9065634</td>\n      <td>1</td>\n      <td>12/9/2011 11:34</td>\n      <td>295.0</td>\n      <td>14446.0</td>\n      <td>Zhongzheng District</td>\n      <td>0.0</td>\n      <td>581538</td>\n    </tr>\n  </tbody>\n</table>\n<p>2426 rows × 10 columns</p>\n</div>"
     },
     "metadata": {},
     "execution_count": 221
    }
   ],
   "source": [
    "_85123A_des = df[df['ItemCode'] == '85123A']['DescriptionCode'].unique().tolist()\n",
    "df[df['DescriptionCode'].isin(_85123A_des)]"
   ]
  },
  {
   "source": [
    "仍看不出`DescriptyionCode`的規則，後續再進一步觀察及補值"
   ],
   "cell_type": "markdown",
   "metadata": {}
  },
  {
   "source": [
    "### 接着觀察 CustomID，並嘗試對其補值"
   ],
   "cell_type": "markdown",
   "metadata": {}
  },
  {
   "cell_type": "code",
   "execution_count": 27,
   "metadata": {},
   "outputs": [
    {
     "output_type": "stream",
     "name": "stdout",
     "text": [
      "Nan of CustomerID: 135077\n"
     ]
    },
    {
     "output_type": "execute_result",
     "data": {
      "text/plain": [
       "Empty DataFrame\n",
       "Columns: [InvoiceNo, ItemCode, DescriptionCode, Quantity, SellDate, NewTaiwanDollors, CustomerID, District, IsCanceled, InvoiceNo_num]\n",
       "Index: []"
      ],
      "text/html": "<div>\n<style scoped>\n    .dataframe tbody tr th:only-of-type {\n        vertical-align: middle;\n    }\n\n    .dataframe tbody tr th {\n        vertical-align: top;\n    }\n\n    .dataframe thead th {\n        text-align: right;\n    }\n</style>\n<table border=\"1\" class=\"dataframe\">\n  <thead>\n    <tr style=\"text-align: right;\">\n      <th></th>\n      <th>InvoiceNo</th>\n      <th>ItemCode</th>\n      <th>DescriptionCode</th>\n      <th>Quantity</th>\n      <th>SellDate</th>\n      <th>NewTaiwanDollors</th>\n      <th>CustomerID</th>\n      <th>District</th>\n      <th>IsCanceled</th>\n      <th>InvoiceNo_num</th>\n    </tr>\n  </thead>\n  <tbody>\n  </tbody>\n</table>\n</div>"
     },
     "metadata": {},
     "execution_count": 27
    }
   ],
   "source": [
    "print('Nan of CustomerID:', df['CustomerID'].isna().sum())\n",
    "\n",
    "# 嘗試用相同的InvoiceNo來補值\n",
    "_IN_cu_na = df[df['CustomerID'].isna()]['InvoiceNo_num'].unique().tolist()\n",
    "df[df['InvoiceNo_num'].isin(_IN_cu_na) & df['CustomerID'].notna()]"
   ]
  },
  {
   "cell_type": "code",
   "execution_count": null,
   "metadata": {},
   "outputs": [],
   "source": [
    "嘗試使用InvoiceNo 比對 CustomerID 補值, 但並無效果"
   ]
  },
  {
   "cell_type": "code",
   "execution_count": 28,
   "metadata": {},
   "outputs": [
    {
     "output_type": "execute_result",
     "data": {
      "text/plain": [
       "  InvoiceNo ItemCode DescriptionCode  Quantity        SellDate  \\\n",
       "0    536365   85123A         1546686         6  12/1/2018 8:26   \n",
       "1    536365    71053         1466048         6  12/1/2018 8:26   \n",
       "2    536365   84406B         4510747         8  12/1/2018 8:26   \n",
       "3    536365   84029G         6497318         6  12/1/2018 8:26   \n",
       "4    536365   84029E         3876120         6  12/1/2018 8:26   \n",
       "\n",
       "   NewTaiwanDollors  CustomerID             District  IsCanceled InvoiceNo_num  \n",
       "0             255.0     17850.0  Zhongzheng District         0.0        536365  \n",
       "1             339.0     17850.0  Zhongzheng District         0.0        536365  \n",
       "2             275.0     17850.0  Zhongzheng District         0.0        536365  \n",
       "3             339.0     17850.0  Zhongzheng District         0.0        536365  \n",
       "4             339.0     17850.0  Zhongzheng District         0.0        536365  "
      ],
      "text/html": "<div>\n<style scoped>\n    .dataframe tbody tr th:only-of-type {\n        vertical-align: middle;\n    }\n\n    .dataframe tbody tr th {\n        vertical-align: top;\n    }\n\n    .dataframe thead th {\n        text-align: right;\n    }\n</style>\n<table border=\"1\" class=\"dataframe\">\n  <thead>\n    <tr style=\"text-align: right;\">\n      <th></th>\n      <th>InvoiceNo</th>\n      <th>ItemCode</th>\n      <th>DescriptionCode</th>\n      <th>Quantity</th>\n      <th>SellDate</th>\n      <th>NewTaiwanDollors</th>\n      <th>CustomerID</th>\n      <th>District</th>\n      <th>IsCanceled</th>\n      <th>InvoiceNo_num</th>\n    </tr>\n  </thead>\n  <tbody>\n    <tr>\n      <th>0</th>\n      <td>536365</td>\n      <td>85123A</td>\n      <td>1546686</td>\n      <td>6</td>\n      <td>12/1/2018 8:26</td>\n      <td>255.0</td>\n      <td>17850.0</td>\n      <td>Zhongzheng District</td>\n      <td>0.0</td>\n      <td>536365</td>\n    </tr>\n    <tr>\n      <th>1</th>\n      <td>536365</td>\n      <td>71053</td>\n      <td>1466048</td>\n      <td>6</td>\n      <td>12/1/2018 8:26</td>\n      <td>339.0</td>\n      <td>17850.0</td>\n      <td>Zhongzheng District</td>\n      <td>0.0</td>\n      <td>536365</td>\n    </tr>\n    <tr>\n      <th>2</th>\n      <td>536365</td>\n      <td>84406B</td>\n      <td>4510747</td>\n      <td>8</td>\n      <td>12/1/2018 8:26</td>\n      <td>275.0</td>\n      <td>17850.0</td>\n      <td>Zhongzheng District</td>\n      <td>0.0</td>\n      <td>536365</td>\n    </tr>\n    <tr>\n      <th>3</th>\n      <td>536365</td>\n      <td>84029G</td>\n      <td>6497318</td>\n      <td>6</td>\n      <td>12/1/2018 8:26</td>\n      <td>339.0</td>\n      <td>17850.0</td>\n      <td>Zhongzheng District</td>\n      <td>0.0</td>\n      <td>536365</td>\n    </tr>\n    <tr>\n      <th>4</th>\n      <td>536365</td>\n      <td>84029E</td>\n      <td>3876120</td>\n      <td>6</td>\n      <td>12/1/2018 8:26</td>\n      <td>339.0</td>\n      <td>17850.0</td>\n      <td>Zhongzheng District</td>\n      <td>0.0</td>\n      <td>536365</td>\n    </tr>\n  </tbody>\n</table>\n</div>"
     },
     "metadata": {},
     "execution_count": 28
    }
   ],
   "source": [
    "df.head(5)"
   ]
  },
  {
   "source": [
    "---\n"
   ],
   "cell_type": "markdown",
   "metadata": {}
  },
  {
   "source": [
    "經以上分析, 預計使用的特徵組合及策略如下所列：  \n",
    "1. 透過 InvoiceNo_num 和 ItemCode 利用 Association rule learning 找出每一筆交易客戶對商品的喜好關聯  \n",
    "2. 透過 SellDate 和 ItemCode 觀察客戶\b在不同時間序列週期(早上下午, 一年四季等)是否有有不同商品需求  \n",
    "3. 透過 District 和 ItemCode 可觀察不同商品在不同地區的熱門程度, 藉以優化`大通路`在各地倉儲的貨物存放策略  \n",
    "4. \b綜合 1, 2, 3 將客戶喜好關聯更細分不同時段, 地區, 藉以定出更細節的銷售策略\n",
    "\n",
    "由於時間關係, 本次只實作項目1"
   ],
   "cell_type": "markdown",
   "metadata": {}
  },
  {
   "source": [
    "## 4. 經過以上的分析, 請透過機器學習方法替客戶規劃一個可行的行銷策略(25%)\n",
    "### 4.1 預期使用什麼機器學習演算法實踐？ 爲什麼？\n",
    "\n",
    "A 4.1: 預計使用 Apriori Algorithm, 一般在實作關聯規則時候會先用基礎的 Apriori 或是 FP-Growth tree 再選用這兩者的變形或更複雜的演算法, 而這兩個演算法的選用一般看資料量, 量太大有訓練效能考量時, 會以\u001fFP-Growth tree 優先考量, 否則選用 Apriori"
   ],
   "cell_type": "markdown",
   "metadata": {}
  },
  {
   "source": [
    "### 4.2 說明並實作所選定的機器學習演算法"
   ],
   "cell_type": "markdown",
   "metadata": {}
  },
  {
   "cell_type": "code",
   "execution_count": 30,
   "metadata": {},
   "outputs": [
    {
     "output_type": "stream",
     "name": "stdout",
     "text": [
      "25897\n"
     ]
    }
   ],
   "source": [
    "from collections import defaultdict\n",
    "\n",
    "# 將不同 InvoiceNo_num 的 ItemCode 分組放入一個 2d list中\n",
    "temp_dict = defaultdict(list)\n",
    "for idx, row in df.iterrows():\n",
    "    key = row['InvoiceNo_num']\n",
    "    value = row['ItemCode']\n",
    "    temp_dict[key].append(value)\n",
    "\n",
    "print(len(temp_dict))"
   ]
  },
  {
   "cell_type": "code",
   "execution_count": 41,
   "metadata": {},
   "outputs": [],
   "source": [
    "data = list(temp_dict.values())"
   ]
  },
  {
   "cell_type": "code",
   "execution_count": 53,
   "metadata": {},
   "outputs": [
    {
     "output_type": "stream",
     "name": "stdout",
     "text": [
      "rule數 23\nRule: 20712 -> 85099B\nSupport: 0.02077380492702139\nConfidence: 0.6169724770642201\nLift: 7.48400618782631\n=====================================\nRule: 20724 -> 22356\nSupport: 0.02031044868329601\nConfidence: 0.500952380952381\nLift: 17.07061152882206\n=====================================\nRule: 20725 -> 20726\nSupport: 0.0205421268051587\nConfidence: 0.5130183220829316\nLift: 8.262530164989903\n=====================================\nRule: 20725 -> 20727\nSupport: 0.025021237161170745\nConfidence: 0.5003861003861004\nLift: 8.05907912176569\n=====================================\nRule: 20725 -> 22383\nSupport: 0.025600432465827477\nConfidence: 0.5076569678407351\nLift: 8.17618168727572\n=====================================\nRule: 20725 -> 22384\nSupport: 0.023669781450305044\nConfidence: 0.5522522522522523\nLift: 8.894420913450764\n=====================================\nRule: 85099B -> 21928\nSupport: 0.02108270908950498\nConfidence: 0.6691176470588236\nLift: 8.116538090646095\n=====================================\nRule: 85099B -> 21929\nSupport: 0.02015599660205421\nConfidence: 0.5952109464082097\nLift: 7.220034234229421\n=====================================\nRule: 21931 -> 85099B\nSupport: 0.028303343887558886\nConfidence: 0.6103247293921732\nLift: 7.403367607399766\n=====================================\nRule: 22086 -> 22910\nSupport: 0.02143022627229902\nConfidence: 0.6670673076923077\nLift: 14.765563362919133\n=====================================\nRule: 85099B -> 22386\nSupport: 0.032164645918603754\nConfidence: 0.676685621445979\nLift: 8.208339215085697\n=====================================\nRule: 85099B -> 22411\nSupport: 0.02637269287203645\nConfidence: 0.5754001684919966\nLift: 6.979725322531957\n=====================================\nRule: 22630 -> 22629\nSupport: 0.02077380492702139\nConfidence: 0.5925110132158591\nLift: 17.842849093330603\n=====================================\nRule: 22697 -> 22698\nSupport: 0.02486678507992895\nConfidence: 0.6092715231788078\nLift: 19.674456243497215\n=====================================\nRule: 22697 -> 22699\nSupport: 0.03027260792339177\nConfidence: 0.7417218543046358\nLift: 17.150993377483445\n=====================================\nRule: 22699 -> 22698\nSupport: 0.02370839447061549\nConfidence: 0.7655860349127183\nLift: 17.702809939437124\n=====================================\nRule: 22726 -> 22727\nSupport: 0.02494401112054985\nConfidence: 0.6440677966101696\nLift: 15.430219978362786\n=====================================\nRule: 85099B -> 23199\nSupport: 0.02143022627229902\nConfidence: 0.5555555555555556\nLift: 6.7390059849076245\n=====================================\nRule: 23203 -> 23202\nSupport: 0.020001544520812417\nConfidence: 0.5846501128668171\nLift: 12.122713068874964\n=====================================\nRule: 23300 -> 23301\nSupport: 0.021198548150436328\nConfidence: 0.7176470588235294\nLift: 20.11431117901706\n=====================================\nRule: 85099B -> 85099C\nSupport: 0.022897521044096068\nConfidence: 0.6261879619852165\nLift: 7.595791962291868\n=====================================\nRule: 85099B -> 85099F\nSupport: 0.021044096069194534\nConfidence: 0.6566265060240964\nLift: 7.965017917101662\n=====================================\nRule: 22697 -> 22699\nSupport: 0.021198548150436328\nConfidence: 0.5193945127719962\nLift: 21.907620670633808\n=====================================\n"
     ]
    }
   ],
   "source": [
    "from apyori import apriori\n",
    "\n",
    "association_rules = apriori(data, min_support=0.02, min_confidence=0.5, min_lift=2, max_length=3) \n",
    "association_results = list(association_rules)\n",
    "print('rule數', len(association_results))\n",
    "\n",
    "for item in association_results:\n",
    "   pair = item[0] \n",
    "   items = [x for x in pair]\n",
    "   print(\"Rule: \" + items[0] + \" -> \" + items[1])\n",
    "   print(\"Support: \" + str(item[1]))\n",
    "   print(\"Confidence: \" + str(item[2][0][2]))\n",
    "   print(\"Lift: \" + str(item[2][0][3]))\n",
    "   print(\"=====================================\")\n"
   ]
  },
  {
   "source": [
    "共找出 23 條 rule, 各參數分別代表：  \n",
    "support: 該商品被交易的次數/總交易次數 `即該商品受歡迎程度`  \n",
    "confidence: 同時包含商品A和商品B的次數/包含商品A的次數  \n",
    "lift: support/confidence  `即該rule的對該商品的提升度` \n",
    "\n",
    "提升度關聯規則  \n",
    "\n",
    "提升度=1 → A和B之間沒有關聯  \n",
    "提升度<1 → A和B不可能一起購買  \n",
    "提升度>1 → 提升度越大，購買兩種產品的可能性越大\n"
   ],
   "cell_type": "markdown",
   "metadata": {}
  },
  {
   "source": [
    "## 5. 請將資料拆成訓練及測試集(Training Set & Test Set), 並驗證你規劃的機器學習準確度(25%)\n",
    "### 5.1 有哪些演算法可以做驗證?(5%)\n",
    "### 5.2 打算用哪些演算法來驗證?(5%)\n",
    "### 5.3 驗證的流程與方法(15%)\n",
    "\n",
    "A5:\n",
    "在非監督學習中, 很少用訓練集本身切分再作爲測試, 因爲切出來的部分本就不具標準答案, 這樣的驗證標準會有瑕疵, 所以實務上會透過訓練出來的模型去執行另一個有答案的任務測試集,\n",
    "舉例來說, BERT 本身雖然是非監督式學習, 但最後產出模型仍用監督式學習作爲下游fine-tuning任務\n",
    "以 Aprori 來說, `confident` 和 `Lift` 就可視爲其 validation 結果\n",
    "\n",
    "若需要更客觀的驗證方式, 應設計另一場景, 並以特定標準取代準確率作爲該模型效果的考量, 例如\n",
    "__大通路在執行新的rule的策略(像是把同組的商品放在同一個架子上)後, 對所影響商品實際賣出數量的提升率__"
   ],
   "cell_type": "markdown",
   "metadata": {}
  },
  {
   "source": [
    "## 6. 假若投入生產, 效果不如預期, 可能原因爲何？後續要如何調整與優化的方向(5%)\n",
    "\n",
    "A6. 效果不如預期有兩種可能性:  \n",
    "\n",
    "1. 效果有提升但提升效果有限  \n",
    "    -> 因爲規則是對的, 所以改善共同規則的宣傳方式, 加深策略執行  （商業執行面）  \n",
    "    -> 增加更多規則, 因爲是試水溫, 只用了23條規則, 在 confident 及 Lift 不降低的前提增加規則影響的廣度, 降低 support  \n",
    "    \n",
    "2. 效果無明顯提升或下降  \n",
    "    -> 將其他條件如 District, SellDate 等考慮其中, 做廣義關聯規則 (generalized association rules)  \n",
    "    -> 就效果下降的商品再研究是否是資料有誤或noise  \n",
    "    -> 更換其他演算法\n"
   ],
   "cell_type": "markdown",
   "metadata": {}
  }
 ]
}